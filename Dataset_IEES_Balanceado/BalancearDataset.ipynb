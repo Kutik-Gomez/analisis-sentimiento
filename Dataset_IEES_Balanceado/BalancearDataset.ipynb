{
 "cells": [
  {
   "cell_type": "code",
   "execution_count": 120,
   "id": "70ec30ab-16b7-485f-837e-5e6b74e31fcf",
   "metadata": {},
   "outputs": [],
   "source": [
    "# Instalar las librerias necesarias para el trabajo\n",
    "import pandas as pd\n",
    "import glob\n",
    "import matplotlib.pyplot as plt\n",
    "import seaborn as sns\n",
    "import re\n",
    "from textblob import TextBlob\n"
   ]
  },
  {
   "cell_type": "code",
   "execution_count": 121,
   "id": "8c81974d-c4f6-4b72-9388-cce3e90a7d89",
   "metadata": {},
   "outputs": [
    {
     "data": {
      "text/html": [
       "<div>\n",
       "<style scoped>\n",
       "    .dataframe tbody tr th:only-of-type {\n",
       "        vertical-align: middle;\n",
       "    }\n",
       "\n",
       "    .dataframe tbody tr th {\n",
       "        vertical-align: top;\n",
       "    }\n",
       "\n",
       "    .dataframe thead th {\n",
       "        text-align: right;\n",
       "    }\n",
       "</style>\n",
       "<table border=\"1\" class=\"dataframe\">\n",
       "  <thead>\n",
       "    <tr style=\"text-align: right;\">\n",
       "      <th></th>\n",
       "      <th>wiI7pd</th>\n",
       "    </tr>\n",
       "  </thead>\n",
       "  <tbody>\n",
       "    <tr>\n",
       "      <th>0</th>\n",
       "      <td>Un maltrato increíble. El guardia no deja entr...</td>\n",
       "    </tr>\n",
       "    <tr>\n",
       "      <th>1</th>\n",
       "      <td>Pésimo servicio. Tiempo de espera de más de 4 ...</td>\n",
       "    </tr>\n",
       "    <tr>\n",
       "      <th>2</th>\n",
       "      <td>Hoy 27/06/23, necesitaba saber que paso con un...</td>\n",
       "    </tr>\n",
       "    <tr>\n",
       "      <th>3</th>\n",
       "      <td>Pesimo servicio 3 horas para atencion y 3 maa ...</td>\n",
       "    </tr>\n",
       "    <tr>\n",
       "      <th>4</th>\n",
       "      <td>El servicio lento, inoperante, burocrático, de...</td>\n",
       "    </tr>\n",
       "    <tr>\n",
       "      <th>...</th>\n",
       "      <td>...</td>\n",
       "    </tr>\n",
       "    <tr>\n",
       "      <th>1888</th>\n",
       "      <td>NaN</td>\n",
       "    </tr>\n",
       "    <tr>\n",
       "      <th>1889</th>\n",
       "      <td>NaN</td>\n",
       "    </tr>\n",
       "    <tr>\n",
       "      <th>1890</th>\n",
       "      <td>NaN</td>\n",
       "    </tr>\n",
       "    <tr>\n",
       "      <th>1891</th>\n",
       "      <td>NaN</td>\n",
       "    </tr>\n",
       "    <tr>\n",
       "      <th>1892</th>\n",
       "      <td>NaN</td>\n",
       "    </tr>\n",
       "  </tbody>\n",
       "</table>\n",
       "<p>1893 rows × 1 columns</p>\n",
       "</div>"
      ],
      "text/plain": [
       "                                                 wiI7pd\n",
       "0     Un maltrato increíble. El guardia no deja entr...\n",
       "1     Pésimo servicio. Tiempo de espera de más de 4 ...\n",
       "2     Hoy 27/06/23, necesitaba saber que paso con un...\n",
       "3     Pesimo servicio 3 horas para atencion y 3 maa ...\n",
       "4     El servicio lento, inoperante, burocrático, de...\n",
       "...                                                 ...\n",
       "1888                                                NaN\n",
       "1889                                                NaN\n",
       "1890                                                NaN\n",
       "1891                                                NaN\n",
       "1892                                                NaN\n",
       "\n",
       "[1893 rows x 1 columns]"
      ]
     },
     "execution_count": 121,
     "metadata": {},
     "output_type": "execute_result"
    }
   ],
   "source": [
    "# Cargar los datos para saber como están sin proceso de limpieza\n",
    "comentarios = pd.read_csv('solocomentarios.csv')\n",
    "comentarios"
   ]
  },
  {
   "cell_type": "markdown",
   "id": "9497e051-4134-4fd3-a4af-59fece120085",
   "metadata": {},
   "source": [
    "# Limpieza de los datos"
   ]
  },
  {
   "cell_type": "code",
   "execution_count": 122,
   "id": "e5b6cfc4-598e-49c7-ba54-8c67e7746863",
   "metadata": {},
   "outputs": [
    {
     "name": "stdout",
     "output_type": "stream",
     "text": [
      "El DataFrame limpio se ha guardado en 'comentariosLimpios.csv'.\n"
     ]
    },
    {
     "data": {
      "text/html": [
       "<div>\n",
       "<style scoped>\n",
       "    .dataframe tbody tr th:only-of-type {\n",
       "        vertical-align: middle;\n",
       "    }\n",
       "\n",
       "    .dataframe tbody tr th {\n",
       "        vertical-align: top;\n",
       "    }\n",
       "\n",
       "    .dataframe thead th {\n",
       "        text-align: right;\n",
       "    }\n",
       "</style>\n",
       "<table border=\"1\" class=\"dataframe\">\n",
       "  <thead>\n",
       "    <tr style=\"text-align: right;\">\n",
       "      <th></th>\n",
       "      <th>wiI7pd</th>\n",
       "    </tr>\n",
       "  </thead>\n",
       "  <tbody>\n",
       "    <tr>\n",
       "      <th>0</th>\n",
       "      <td>Un maltrato increíble. El guardia no deja entr...</td>\n",
       "    </tr>\n",
       "    <tr>\n",
       "      <th>1</th>\n",
       "      <td>Pésimo servicio. Tiempo de espera de más de 4 ...</td>\n",
       "    </tr>\n",
       "    <tr>\n",
       "      <th>2</th>\n",
       "      <td>Hoy 27/06/23, necesitaba saber que paso con un...</td>\n",
       "    </tr>\n",
       "    <tr>\n",
       "      <th>3</th>\n",
       "      <td>Pesimo servicio 3 horas para atencion y 3 maa ...</td>\n",
       "    </tr>\n",
       "    <tr>\n",
       "      <th>4</th>\n",
       "      <td>El servicio lento, inoperante, burocrático, de...</td>\n",
       "    </tr>\n",
       "    <tr>\n",
       "      <th>...</th>\n",
       "      <td>...</td>\n",
       "    </tr>\n",
       "    <tr>\n",
       "      <th>1861</th>\n",
       "      <td>Bien</td>\n",
       "    </tr>\n",
       "    <tr>\n",
       "      <th>1862</th>\n",
       "      <td>Exelente</td>\n",
       "    </tr>\n",
       "    <tr>\n",
       "      <th>1863</th>\n",
       "      <td>Trato oportuno</td>\n",
       "    </tr>\n",
       "    <tr>\n",
       "      <th>1864</th>\n",
       "      <td>Bueno</td>\n",
       "    </tr>\n",
       "    <tr>\n",
       "      <th>1865</th>\n",
       "      <td>Pésima atención parece un mercado</td>\n",
       "    </tr>\n",
       "  </tbody>\n",
       "</table>\n",
       "<p>1183 rows × 1 columns</p>\n",
       "</div>"
      ],
      "text/plain": [
       "                                                 wiI7pd\n",
       "0     Un maltrato increíble. El guardia no deja entr...\n",
       "1     Pésimo servicio. Tiempo de espera de más de 4 ...\n",
       "2     Hoy 27/06/23, necesitaba saber que paso con un...\n",
       "3     Pesimo servicio 3 horas para atencion y 3 maa ...\n",
       "4     El servicio lento, inoperante, burocrático, de...\n",
       "...                                                 ...\n",
       "1861                                               Bien\n",
       "1862                                           Exelente\n",
       "1863                                     Trato oportuno\n",
       "1864                                              Bueno\n",
       "1865                  Pésima atención parece un mercado\n",
       "\n",
       "[1183 rows x 1 columns]"
      ]
     },
     "execution_count": 122,
     "metadata": {},
     "output_type": "execute_result"
    }
   ],
   "source": [
    "# Leer el archivo \n",
    "df = pd.read_csv('solocomentarios.csv')\n",
    "# Eliminar la filas que tenga vacios\n",
    "datosLimpios = df.dropna()\n",
    "# Mostrar el dataset\n",
    "datosLimpios\n",
    "\n",
    "# Guardar el dataset limpio sin vacios llamando 'comentarios'\n",
    "datosLimpios.to_csv('comentarios1.csv', index=False)\n",
    "\n",
    "print(\"El DataFrame limpio se ha guardado en 'comentariosLimpios.csv'.\")\n",
    "\n",
    "#Mostrar\n",
    "datosLimpios\n"
   ]
  },
  {
   "cell_type": "code",
   "execution_count": 123,
   "id": "9021e31a-38cf-4e85-91aa-513647188cf6",
   "metadata": {},
   "outputs": [],
   "source": [
    "# Funcion de Limpieza\n",
    "def limpiar_comentarios(texto):\n",
    "    texto = re.sub(r'^RT[\\s]+', '', texto)\n",
    "    texto = re.sub(r'https?:\\/\\/.*[\\r\\n*]', '', texto)\n",
    "    texto = re.sub(r'#', '', texto)\n",
    "    texto = re.sub(r'@[A-Za-z0-9_]+', '', texto)\n",
    "    texto = re.sub(r'http\\S+|www.\\S+|pic.\\S+|\\S+.com\\S*|\\S+.org\\S*|\\S+.net\\S*', '', texto)\n",
    "    texto = re.sub(r'[^\\w\\s]', '', texto)\n",
    "    texto = re.sub(r'^\\d+$', '', texto)\n",
    "    return texto.lower().strip()"
   ]
  },
  {
   "cell_type": "code",
   "execution_count": 124,
   "id": "e9219831-3e9c-46f8-9605-e7df4d590ef6",
   "metadata": {},
   "outputs": [],
   "source": [
    "# Limpieza de la columna comentarios en este caso se llama wiI7pd\n",
    "if 'wiI7pd' in df_cleaned.columns:\n",
    "    df_cleaned['wiI7pd'] = df_cleaned['wiI7pd'].apply(limpiar_comentarios)\n",
    "else:\n",
    "    print(\"La columna 'wiI7pd' no existe en el DataFrame.\")\n",
    "\n",
    "# Guardar el DataFrame limpio en un nuevo archivo CSV\n",
    "df_cleaned.to_csv('comentarios2.csv', index=False)"
   ]
  },
  {
   "cell_type": "code",
   "execution_count": 125,
   "id": "d7c3d574-762b-4fa6-9fcf-5b962d4b6acd",
   "metadata": {},
   "outputs": [
    {
     "name": "stdout",
     "output_type": "stream",
     "text": [
      "Primeras filas del DataFrame original:\n",
      "                                              wiI7pd\n",
      "0  Un maltrato increíble. El guardia no deja entr...\n",
      "1  Pésimo servicio. Tiempo de espera de más de 4 ...\n",
      "2  Hoy 27/06/23, necesitaba saber que paso con un...\n",
      "3  Pesimo servicio 3 horas para atencion y 3 maa ...\n",
      "4  El servicio lento, inoperante, burocrático, de...\n",
      "Primeras filas del DataFrame limpio:\n",
      "                                              wiI7pd\n",
      "0  un maltrato increíble el guardia no deja entra...\n",
      "1  pésimo servicio tiempo de espera de más de 4 h...\n",
      "2  hoy 270623 necesitaba saber que paso con una d...\n",
      "3  pesimo servicio 3 horas para atencion y 3 maa ...\n",
      "4  el servicio lento inoperante burocrático des h...\n"
     ]
    }
   ],
   "source": [
    "# Cargar los datos desde un archivo CSV\n",
    "cm_antes = pd.read_csv('comentarios1.csv')\n",
    "cm_despues = pd.read_csv('comentarios2.csv')\n",
    "\n",
    "# Mostrar las primeras filas de ambos DataFrames para verificar la carga correcta\n",
    "print(\"Primeras filas del DataFrame original:\")\n",
    "print(cm_antes.head())\n",
    "\n",
    "print(\"Primeras filas del DataFrame limpio:\")\n",
    "print(cm_despues.head())"
   ]
  },
  {
   "cell_type": "code",
   "execution_count": 126,
   "id": "bc076625-b125-4414-a637-a70ce24c8c50",
   "metadata": {},
   "outputs": [
    {
     "name": "stdout",
     "output_type": "stream",
     "text": [
      "El DataFrame limpio se ha guardado en 'comentarios3.csv'.\n"
     ]
    },
    {
     "data": {
      "text/html": [
       "<div>\n",
       "<style scoped>\n",
       "    .dataframe tbody tr th:only-of-type {\n",
       "        vertical-align: middle;\n",
       "    }\n",
       "\n",
       "    .dataframe tbody tr th {\n",
       "        vertical-align: top;\n",
       "    }\n",
       "\n",
       "    .dataframe thead th {\n",
       "        text-align: right;\n",
       "    }\n",
       "</style>\n",
       "<table border=\"1\" class=\"dataframe\">\n",
       "  <thead>\n",
       "    <tr style=\"text-align: right;\">\n",
       "      <th></th>\n",
       "      <th>wiI7pd</th>\n",
       "    </tr>\n",
       "  </thead>\n",
       "  <tbody>\n",
       "    <tr>\n",
       "      <th>0</th>\n",
       "      <td>un maltrato increíble el guardia no deja entra...</td>\n",
       "    </tr>\n",
       "    <tr>\n",
       "      <th>1</th>\n",
       "      <td>pésimo servicio tiempo de espera de más de 4 h...</td>\n",
       "    </tr>\n",
       "    <tr>\n",
       "      <th>2</th>\n",
       "      <td>hoy 270623 necesitaba saber que paso con una d...</td>\n",
       "    </tr>\n",
       "    <tr>\n",
       "      <th>3</th>\n",
       "      <td>pesimo servicio 3 horas para atencion y 3 maa ...</td>\n",
       "    </tr>\n",
       "    <tr>\n",
       "      <th>4</th>\n",
       "      <td>el servicio lento inoperante burocrático des h...</td>\n",
       "    </tr>\n",
       "    <tr>\n",
       "      <th>...</th>\n",
       "      <td>...</td>\n",
       "    </tr>\n",
       "    <tr>\n",
       "      <th>1178</th>\n",
       "      <td>bien</td>\n",
       "    </tr>\n",
       "    <tr>\n",
       "      <th>1179</th>\n",
       "      <td>exelente</td>\n",
       "    </tr>\n",
       "    <tr>\n",
       "      <th>1180</th>\n",
       "      <td>trato oportuno</td>\n",
       "    </tr>\n",
       "    <tr>\n",
       "      <th>1181</th>\n",
       "      <td>bueno</td>\n",
       "    </tr>\n",
       "    <tr>\n",
       "      <th>1182</th>\n",
       "      <td>pésima atención parece un mercado</td>\n",
       "    </tr>\n",
       "  </tbody>\n",
       "</table>\n",
       "<p>1177 rows × 1 columns</p>\n",
       "</div>"
      ],
      "text/plain": [
       "                                                 wiI7pd\n",
       "0     un maltrato increíble el guardia no deja entra...\n",
       "1     pésimo servicio tiempo de espera de más de 4 h...\n",
       "2     hoy 270623 necesitaba saber que paso con una d...\n",
       "3     pesimo servicio 3 horas para atencion y 3 maa ...\n",
       "4     el servicio lento inoperante burocrático des h...\n",
       "...                                                 ...\n",
       "1178                                               bien\n",
       "1179                                           exelente\n",
       "1180                                     trato oportuno\n",
       "1181                                              bueno\n",
       "1182                  pésima atención parece un mercado\n",
       "\n",
       "[1177 rows x 1 columns]"
      ]
     },
     "execution_count": 126,
     "metadata": {},
     "output_type": "execute_result"
    }
   ],
   "source": [
    "# Eliminar nuevamente filas vacias\n",
    "df = pd.read_csv('comentarios2.csv')\n",
    "# Eliminar la filas que tenga vacios\n",
    "datosLimpios = df.dropna()\n",
    "# Mostrar el dataset\n",
    "datosLimpios\n",
    "\n",
    "# Guardar el dataset limpio sin filas vacias\n",
    "datosLimpios.to_csv('comentarios3.csv', index=False)\n",
    "\n",
    "print(\"El DataFrame limpio se ha guardado en 'comentarios3.csv'.\")\n",
    "\n",
    "#Mostrar\n",
    "datosLimpios"
   ]
  },
  {
   "cell_type": "code",
   "execution_count": 127,
   "id": "996b9375-d267-4c62-aa4e-d41db4e97e69",
   "metadata": {},
   "outputs": [],
   "source": [
    "# Eliminar filas manualmente después de revisar si algunos datos que no sirven o tenga una palabra inadeacuado\n",
    "\n",
    "df = pd.read_csv('comentarios3.csv').drop(index=[261, 416, 660, 690, 1083, 1084,])\n",
    "\n",
    "# Guardar el DataFrame modificado en un nuevo archivo CSV\n",
    "df.to_csv('comentarios4.csv', index=False)"
   ]
  },
  {
   "cell_type": "code",
   "execution_count": 128,
   "id": "b788f06c-d1e9-44a4-aef8-ab22a205cd2e",
   "metadata": {},
   "outputs": [],
   "source": [
    "# Eliminar registros duplicados del dataset\n",
    "\n",
    "df = pd.read_csv('comentarios4.csv').drop_duplicates()\n",
    "\n",
    "# Guardar el DataFrame modificado sin duplicados en un nuevo archivo CSV\n",
    "df.to_csv('comentarios5.csv', index=False)"
   ]
  },
  {
   "cell_type": "code",
   "execution_count": 129,
   "id": "98022168-5ace-4e1e-91b2-283a6dd496dc",
   "metadata": {},
   "outputs": [
    {
     "name": "stdout",
     "output_type": "stream",
     "text": [
      "wiI7pd    1183\n",
      "dtype: int64\n",
      "wiI7pd    1171\n",
      "dtype: int64\n",
      "wiI7pd    1100\n",
      "dtype: int64\n"
     ]
    }
   ],
   "source": [
    "# Mostrar los cambios que existe de los filtros que se realizaron\n",
    "original = pd.read_csv('solocomentarios.csv')\n",
    "limpiando = pd.read_csv('comentarios4.csv')\n",
    "resultado = pd.read_csv('comentarios5.csv')\n",
    "\n",
    "print(original.count())\n",
    "print( limpiando.count())\n",
    "print( resultado.count())"
   ]
  },
  {
   "cell_type": "code",
   "execution_count": null,
   "id": "394edab0-889f-4286-8d12-8c13b4d5dd2d",
   "metadata": {},
   "outputs": [],
   "source": [
    "# instalar la libreria pip install textblob primeramente \n",
    "resultado = pd.read_csv('comentarios5.csv')"
   ]
  }
 ],
 "metadata": {
  "kernelspec": {
   "display_name": "Python 3 (ipykernel)",
   "language": "python",
   "name": "python3"
  },
  "language_info": {
   "codemirror_mode": {
    "name": "ipython",
    "version": 3
   },
   "file_extension": ".py",
   "mimetype": "text/x-python",
   "name": "python",
   "nbconvert_exporter": "python",
   "pygments_lexer": "ipython3",
   "version": "3.11.7"
  }
 },
 "nbformat": 4,
 "nbformat_minor": 5
}
