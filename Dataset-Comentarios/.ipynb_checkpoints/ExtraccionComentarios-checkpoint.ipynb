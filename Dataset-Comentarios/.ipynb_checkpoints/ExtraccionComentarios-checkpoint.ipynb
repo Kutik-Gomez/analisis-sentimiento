{
 "cells": [
  {
   "cell_type": "code",
   "execution_count": 15,
   "id": "5527d5f6-0aa9-402a-bdfb-f54916c3970b",
   "metadata": {},
   "outputs": [],
   "source": [
    "import pandas as pd\n",
    "import os"
   ]
  },
  {
   "cell_type": "code",
   "execution_count": null,
   "id": "d26abaa8-0e8d-4281-8c7f-d7328c5b497b",
   "metadata": {},
   "outputs": [],
   "source": []
  },
  {
   "cell_type": "code",
   "execution_count": null,
   "id": "a7b6e0eb-01bc-42ea-aaa2-a37c57457f1c",
   "metadata": {},
   "outputs": [],
   "source": []
  },
  {
   "cell_type": "code",
   "execution_count": 16,
   "id": "41e2f774-761e-4d48-b1bd-9778f7e07f20",
   "metadata": {},
   "outputs": [],
   "source": [
    "# Especificar la carpeta que contiene los archivos CSV\n",
    "carpeta_origen = './Dataset-Comentarios'"
   ]
  },
  {
   "cell_type": "code",
   "execution_count": 17,
   "id": "bce88287-4af4-4535-ac28-35c00127f580",
   "metadata": {},
   "outputs": [],
   "source": [
    "# Crear una lista para almacenar los DataFrames\n",
    "dataframes = []"
   ]
  },
  {
   "cell_type": "code",
   "execution_count": 18,
   "id": "4342c0ac-ad86-4f51-9648-7c4adac5a84a",
   "metadata": {},
   "outputs": [
    {
     "name": "stdout",
     "output_type": "stream",
     "text": [
      "Archivo no encontrado: ./Dataset-Comentarios\\comentarios1.csv\n",
      "Archivo no encontrado: ./Dataset-Comentarios\\comentarios2.csv\n",
      "Archivo no encontrado: ./Dataset-Comentarios\\comentarios3.csv\n",
      "Archivo no encontrado: ./Dataset-Comentarios\\comentarios4.csv\n",
      "Archivo no encontrado: ./Dataset-Comentarios\\comentarios5.csv\n",
      "Archivo no encontrado: ./Dataset-Comentarios\\comentarios6.csv\n",
      "Archivo no encontrado: ./Dataset-Comentarios\\comentarios7.csv\n",
      "Archivo no encontrado: ./Dataset-Comentarios\\comentarios8.csv\n",
      "Archivo no encontrado: ./Dataset-Comentarios\\comentarios9.csv\n",
      "Archivo no encontrado: ./Dataset-Comentarios\\comentarios10.csv\n",
      "Archivo no encontrado: ./Dataset-Comentarios\\comentarios11.csv\n",
      "Archivo no encontrado: ./Dataset-Comentarios\\comentarios12.csv\n",
      "Archivo no encontrado: ./Dataset-Comentarios\\comentarios13.csv\n",
      "Archivo no encontrado: ./Dataset-Comentarios\\comentarios14.csv\n"
     ]
    },
    {
     "ename": "ValueError",
     "evalue": "No objects to concatenate",
     "output_type": "error",
     "traceback": [
      "\u001b[1;31m---------------------------------------------------------------------------\u001b[0m",
      "\u001b[1;31mValueError\u001b[0m                                Traceback (most recent call last)",
      "Cell \u001b[1;32mIn[18], line 21\u001b[0m\n\u001b[0;32m     18\u001b[0m         \u001b[38;5;28mprint\u001b[39m(\u001b[38;5;124mf\u001b[39m\u001b[38;5;124m\"\u001b[39m\u001b[38;5;124mError al leer el archivo \u001b[39m\u001b[38;5;132;01m{\u001b[39;00marchivo_csv\u001b[38;5;132;01m}\u001b[39;00m\u001b[38;5;124m: \u001b[39m\u001b[38;5;132;01m{\u001b[39;00me\u001b[38;5;132;01m}\u001b[39;00m\u001b[38;5;124m\"\u001b[39m)\n\u001b[0;32m     20\u001b[0m \u001b[38;5;66;03m# Concatenar todas las columnas en un solo DataFrame\u001b[39;00m\n\u001b[1;32m---> 21\u001b[0m df_unido \u001b[38;5;241m=\u001b[39m pd\u001b[38;5;241m.\u001b[39mconcat(dataframes, ignore_index\u001b[38;5;241m=\u001b[39m\u001b[38;5;28;01mTrue\u001b[39;00m)\n\u001b[0;32m     23\u001b[0m \u001b[38;5;66;03m# Especificar la ruta y el nombre del nuevo archivo CSV\u001b[39;00m\n\u001b[0;32m     24\u001b[0m archivo_salida \u001b[38;5;241m=\u001b[39m os\u001b[38;5;241m.\u001b[39mpath\u001b[38;5;241m.\u001b[39mjoin(carpeta_origen, \u001b[38;5;124m'\u001b[39m\u001b[38;5;124mcomentarios_unidos.csv\u001b[39m\u001b[38;5;124m'\u001b[39m)\n",
      "File \u001b[1;32m~\\anaconda3\\Lib\\site-packages\\pandas\\core\\reshape\\concat.py:380\u001b[0m, in \u001b[0;36mconcat\u001b[1;34m(objs, axis, join, ignore_index, keys, levels, names, verify_integrity, sort, copy)\u001b[0m\n\u001b[0;32m    377\u001b[0m \u001b[38;5;28;01melif\u001b[39;00m copy \u001b[38;5;129;01mand\u001b[39;00m using_copy_on_write():\n\u001b[0;32m    378\u001b[0m     copy \u001b[38;5;241m=\u001b[39m \u001b[38;5;28;01mFalse\u001b[39;00m\n\u001b[1;32m--> 380\u001b[0m op \u001b[38;5;241m=\u001b[39m _Concatenator(\n\u001b[0;32m    381\u001b[0m     objs,\n\u001b[0;32m    382\u001b[0m     axis\u001b[38;5;241m=\u001b[39maxis,\n\u001b[0;32m    383\u001b[0m     ignore_index\u001b[38;5;241m=\u001b[39mignore_index,\n\u001b[0;32m    384\u001b[0m     join\u001b[38;5;241m=\u001b[39mjoin,\n\u001b[0;32m    385\u001b[0m     keys\u001b[38;5;241m=\u001b[39mkeys,\n\u001b[0;32m    386\u001b[0m     levels\u001b[38;5;241m=\u001b[39mlevels,\n\u001b[0;32m    387\u001b[0m     names\u001b[38;5;241m=\u001b[39mnames,\n\u001b[0;32m    388\u001b[0m     verify_integrity\u001b[38;5;241m=\u001b[39mverify_integrity,\n\u001b[0;32m    389\u001b[0m     copy\u001b[38;5;241m=\u001b[39mcopy,\n\u001b[0;32m    390\u001b[0m     sort\u001b[38;5;241m=\u001b[39msort,\n\u001b[0;32m    391\u001b[0m )\n\u001b[0;32m    393\u001b[0m \u001b[38;5;28;01mreturn\u001b[39;00m op\u001b[38;5;241m.\u001b[39mget_result()\n",
      "File \u001b[1;32m~\\anaconda3\\Lib\\site-packages\\pandas\\core\\reshape\\concat.py:443\u001b[0m, in \u001b[0;36m_Concatenator.__init__\u001b[1;34m(self, objs, axis, join, keys, levels, names, ignore_index, verify_integrity, copy, sort)\u001b[0m\n\u001b[0;32m    440\u001b[0m \u001b[38;5;28mself\u001b[39m\u001b[38;5;241m.\u001b[39mverify_integrity \u001b[38;5;241m=\u001b[39m verify_integrity\n\u001b[0;32m    441\u001b[0m \u001b[38;5;28mself\u001b[39m\u001b[38;5;241m.\u001b[39mcopy \u001b[38;5;241m=\u001b[39m copy\n\u001b[1;32m--> 443\u001b[0m objs, keys \u001b[38;5;241m=\u001b[39m \u001b[38;5;28mself\u001b[39m\u001b[38;5;241m.\u001b[39m_clean_keys_and_objs(objs, keys)\n\u001b[0;32m    445\u001b[0m \u001b[38;5;66;03m# figure out what our result ndim is going to be\u001b[39;00m\n\u001b[0;32m    446\u001b[0m ndims \u001b[38;5;241m=\u001b[39m \u001b[38;5;28mself\u001b[39m\u001b[38;5;241m.\u001b[39m_get_ndims(objs)\n",
      "File \u001b[1;32m~\\anaconda3\\Lib\\site-packages\\pandas\\core\\reshape\\concat.py:505\u001b[0m, in \u001b[0;36m_Concatenator._clean_keys_and_objs\u001b[1;34m(self, objs, keys)\u001b[0m\n\u001b[0;32m    502\u001b[0m     objs_list \u001b[38;5;241m=\u001b[39m \u001b[38;5;28mlist\u001b[39m(objs)\n\u001b[0;32m    504\u001b[0m \u001b[38;5;28;01mif\u001b[39;00m \u001b[38;5;28mlen\u001b[39m(objs_list) \u001b[38;5;241m==\u001b[39m \u001b[38;5;241m0\u001b[39m:\n\u001b[1;32m--> 505\u001b[0m     \u001b[38;5;28;01mraise\u001b[39;00m \u001b[38;5;167;01mValueError\u001b[39;00m(\u001b[38;5;124m\"\u001b[39m\u001b[38;5;124mNo objects to concatenate\u001b[39m\u001b[38;5;124m\"\u001b[39m)\n\u001b[0;32m    507\u001b[0m \u001b[38;5;28;01mif\u001b[39;00m keys \u001b[38;5;129;01mis\u001b[39;00m \u001b[38;5;28;01mNone\u001b[39;00m:\n\u001b[0;32m    508\u001b[0m     objs_list \u001b[38;5;241m=\u001b[39m \u001b[38;5;28mlist\u001b[39m(com\u001b[38;5;241m.\u001b[39mnot_none(\u001b[38;5;241m*\u001b[39mobjs_list))\n",
      "\u001b[1;31mValueError\u001b[0m: No objects to concatenate"
     ]
    }
   ],
   "source": [
    "\n",
    "# Iterar sobre cada archivo en la carpeta\n",
    "for i in range(1, 15):\n",
    "    # Generar el nombre del archivo\n",
    "    archivo_csv = os.path.join(carpeta_origen, f'comentarios{i}.csv')\n",
    "    \n",
    "    try:\n",
    "        # Leer el archivo CSV\n",
    "        df = pd.read_csv(archivo_csv)\n",
    "        \n",
    "        # Reemplaza 'nombre_columna' con el nombre de la columna que deseas extraer\n",
    "        nombre_columna = 'wiI7pd'  # Especifica el nombre de la columna que quieres extraer\n",
    "        \n",
    "        # Seleccionar la columna deseada y agregarla a la lista de DataFrames\n",
    "        dataframes.append(df[[nombre_columna]])\n",
    "    except FileNotFoundError:\n",
    "        print(f\"Archivo no encontrado: {archivo_csv}\")\n",
    "    except Exception as e:\n",
    "        print(f\"Error al leer el archivo {archivo_csv}: {e}\")\n",
    "\n",
    "# Concatenar todas las columnas en un solo DataFrame\n",
    "df_unido = pd.concat(dataframes, ignore_index=True)\n",
    "\n",
    "# Especificar la ruta y el nombre del nuevo archivo CSV\n",
    "archivo_salida = os.path.join(carpeta_origen, 'comentarios_unidos.csv')\n",
    "\n",
    "# Guardar el DataFrame unido en un nuevo archivo CSV\n",
    "df_unido.to_csv(archivo_salida, index=False)\n",
    "\n",
    "print(f\"Todas las columnas han sido unidas y guardadas en '{archivo_salida}'\")"
   ]
  },
  {
   "cell_type": "code",
   "execution_count": null,
   "id": "11c8df92-a054-4c67-a113-71e7da675d6b",
   "metadata": {},
   "outputs": [],
   "source": []
  }
 ],
 "metadata": {
  "kernelspec": {
   "display_name": "Python 3 (ipykernel)",
   "language": "python",
   "name": "python3"
  },
  "language_info": {
   "codemirror_mode": {
    "name": "ipython",
    "version": 3
   },
   "file_extension": ".py",
   "mimetype": "text/x-python",
   "name": "python",
   "nbconvert_exporter": "python",
   "pygments_lexer": "ipython3",
   "version": "3.11.7"
  }
 },
 "nbformat": 4,
 "nbformat_minor": 5
}
