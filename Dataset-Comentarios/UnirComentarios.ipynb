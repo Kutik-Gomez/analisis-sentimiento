{
 "cells": [
  {
   "cell_type": "code",
   "execution_count": 9,
   "id": "e5d8daa6-91a8-494a-8d1b-6362dd47c8f7",
   "metadata": {},
   "outputs": [
    {
     "name": "stdout",
     "output_type": "stream",
     "text": [
      "Los archivos se han unido correctamente y se han guardado en 'comentarios_unidos.csv'\n"
     ]
    }
   ],
   "source": [
    "import pandas as pd\n",
    "import glob\n",
    "import pandas as pd\n",
    "import os\n",
    "\n",
    "# Lista para almacenar los DataFrames\n",
    "dataframes = []\n",
    "\n",
    "# Patrón de nombres de archivos CSV\n",
    "archivo_patron = 'comentarios*.csv'\n",
    "\n",
    "# Usar glob para obtener una lista de todos los archivos que coinciden con el patrón\n",
    "archivos_csv = glob.glob(archivo_patron)\n",
    "\n",
    "# Leer cada archivo CSV y agregarlo a la lista de DataFrames\n",
    "for archivo in archivos_csv:\n",
    "    df = pd.read_csv(archivo)\n",
    "    dataframes.append(df)\n",
    "\n",
    "# Unir todos los DataFrames\n",
    "comentarios_unidos = pd.concat(dataframes, ignore_index=True)\n",
    "\n",
    "# Guardar el resultado en un nuevo archivo CSV\n",
    "comentarios_unidos.to_csv('comentarios_unidos.csv', index=False)\n",
    "\n",
    "print(\"Los archivos se han unido correctamente y se han guardado en 'comentarios_unidos.csv'\")\n",
    "\n"
   ]
  },
  {
   "cell_type": "code",
   "execution_count": 35,
   "id": "08af43dd-9380-42e4-8626-19041fb62393",
   "metadata": {},
   "outputs": [
    {
     "name": "stdout",
     "output_type": "stream",
     "text": [
      "<class 'pandas.core.frame.DataFrame'>\n",
      "RangeIndex: 5160 entries, 0 to 5159\n",
      "Data columns (total 1 columns):\n",
      " #   Column  Non-Null Count  Dtype \n",
      "---  ------  --------------  ----- \n",
      " 0   wiI7pd  3243 non-null   object\n",
      "dtypes: object(1)\n",
      "memory usage: 40.4+ KB\n",
      "None\n"
     ]
    }
   ],
   "source": [
    "# Reemplaza 'ruta/al/archivo.csv' con la ruta a tu archivo CSV\n",
    "archivo_csv = './comentarios_unidos.csv'\n",
    "\n",
    "# Cargar el archivo CSV en un DataFrame\n",
    "df = pd.read_csv(archivo_csv)\n",
    "print(df.info())\n"
   ]
  },
  {
   "cell_type": "code",
   "execution_count": 38,
   "id": "1f884aa5-84fb-4301-8d77-5b2f4ba7fec0",
   "metadata": {},
   "outputs": [
    {
     "data": {
      "text/html": [
       "<div>\n",
       "<style scoped>\n",
       "    .dataframe tbody tr th:only-of-type {\n",
       "        vertical-align: middle;\n",
       "    }\n",
       "\n",
       "    .dataframe tbody tr th {\n",
       "        vertical-align: top;\n",
       "    }\n",
       "\n",
       "    .dataframe thead th {\n",
       "        text-align: right;\n",
       "    }\n",
       "</style>\n",
       "<table border=\"1\" class=\"dataframe\">\n",
       "  <thead>\n",
       "    <tr style=\"text-align: right;\">\n",
       "      <th></th>\n",
       "      <th>wiI7pd</th>\n",
       "    </tr>\n",
       "  </thead>\n",
       "  <tbody>\n",
       "    <tr>\n",
       "      <th>0</th>\n",
       "      <td>Un maltrato increíble. El guardia no deja entrar a al acompañante del enfermo. \"Ya se enterará si le pasa algo al enferno\" dijo el guardia con mala.actitud. Ojala el muerto nos haga una llamada del mas alla. Lo que se espera de IESS.</td>\n",
       "    </tr>\n",
       "    <tr>\n",
       "      <th>1</th>\n",
       "      <td>Pésimo servicio. Tiempo de espera de más de 4 horas para que al final no te atiendan porque no estás lo suficientemente grave</td>\n",
       "    </tr>\n",
       "    <tr>\n",
       "      <th>2</th>\n",
       "      <td>Hoy 27/06/23, necesitaba saber que paso con una derivación tramitada hace 2 meses que puestamente me llamaban  pero la persona encargada ni siquiera se comidio en averiguar que había pasado con mi proceso, pésima atención no ponen personas preparadas en información.</td>\n",
       "    </tr>\n",
       "    <tr>\n",
       "      <th>3</th>\n",
       "      <td>Pesimo servicio 3 horas para atencion y 3 maa para la entrega de resultados no es justo nosotros pagamoa nuestro seguro al dia y ellos se demoran mucho</td>\n",
       "    </tr>\n",
       "    <tr>\n",
       "      <th>4</th>\n",
       "      <td>El servicio lento, inoperante, burocrático, des humanizado solo se compara con la calidad del personal que aquí trabaja. Parece que nos están haciendo un favor, cuando la realidad es que gracias a nuestros aportes es que esta nefasta…</td>\n",
       "    </tr>\n",
       "  </tbody>\n",
       "</table>\n",
       "</div>"
      ],
      "text/plain": [
       "                                                                                                                                                                                                                                                                       wiI7pd\n",
       "0                                   Un maltrato increíble. El guardia no deja entrar a al acompañante del enfermo. \"Ya se enterará si le pasa algo al enferno\" dijo el guardia con mala.actitud. Ojala el muerto nos haga una llamada del mas alla. Lo que se espera de IESS.\n",
       "1                                                                                                                                               Pésimo servicio. Tiempo de espera de más de 4 horas para que al final no te atiendan porque no estás lo suficientemente grave\n",
       "2  Hoy 27/06/23, necesitaba saber que paso con una derivación tramitada hace 2 meses que puestamente me llamaban  pero la persona encargada ni siquiera se comidio en averiguar que había pasado con mi proceso, pésima atención no ponen personas preparadas en información.\n",
       "3                                                                                                                     Pesimo servicio 3 horas para atencion y 3 maa para la entrega de resultados no es justo nosotros pagamoa nuestro seguro al dia y ellos se demoran mucho\n",
       "4                                  El servicio lento, inoperante, burocrático, des humanizado solo se compara con la calidad del personal que aquí trabaja. Parece que nos están haciendo un favor, cuando la realidad es que gracias a nuestros aportes es que esta nefasta…"
      ]
     },
     "execution_count": 38,
     "metadata": {},
     "output_type": "execute_result"
    }
   ],
   "source": [
    "# Ruta al archivo CSV\n",
    "archivo_csv = './comentarios_unidos.csv'\n",
    "\n",
    "# Cargar el archivo CSV en un DataFrame\n",
    "df = pd.read_csv(archivo_csv)\n",
    "\n",
    "# Eliminar los campos NaN\n",
    "df_sin_nan = df.dropna()\n",
    "\n",
    "# Mostrar las primeras filas del DataFrame resultante\n",
    "df_sin_nan.head(5)\n"
   ]
  },
  {
   "cell_type": "code",
   "execution_count": 40,
   "id": "a5126dd3-bbb6-45db-9408-8099d44bbded",
   "metadata": {},
   "outputs": [
    {
     "name": "stdout",
     "output_type": "stream",
     "text": [
      "                                                                                                                                                                                                                                                                       wiI7pd\n",
      "0                                   Un maltrato increíble. El guardia no deja entrar a al acompañante del enfermo. \"Ya se enterará si le pasa algo al enferno\" dijo el guardia con mala.actitud. Ojala el muerto nos haga una llamada del mas alla. Lo que se espera de IESS.\n",
      "1                                                                                                                                               Pésimo servicio. Tiempo de espera de más de 4 horas para que al final no te atiendan porque no estás lo suficientemente grave\n",
      "2  Hoy 27/06/23, necesitaba saber que paso con una derivación tramitada hace 2 meses que puestamente me llamaban  pero la persona encargada ni siquiera se comidio en averiguar que había pasado con mi proceso, pésima atención no ponen personas preparadas en información.\n",
      "3                                                                                                                     Pesimo servicio 3 horas para atencion y 3 maa para la entrega de resultados no es justo nosotros pagamoa nuestro seguro al dia y ellos se demoran mucho\n",
      "4                                  El servicio lento, inoperante, burocrático, des humanizado solo se compara con la calidad del personal que aquí trabaja. Parece que nos están haciendo un favor, cuando la realidad es que gracias a nuestros aportes es que esta nefasta…\n",
      "El archivo sin NaN se ha guardado correctamente en './comentarios_sin_vacios.csv'\n"
     ]
    }
   ],
   "source": [
    "# Ruta al archivo CSV original\n",
    "archivo_csv = './comentarios_unidos.csv'\n",
    "\n",
    "# Cargar el archivo CSV en un DataFrame\n",
    "df = pd.read_csv(archivo_csv)\n",
    "\n",
    "# Eliminar los campos NaN y guardar en un nuevo DataFrame\n",
    "df_sin_nan = df.dropna()\n",
    "\n",
    "# Mostrar las primeras filas del DataFrame resultante\n",
    "print(df_sin_nan.head())\n",
    "\n",
    "# Ruta para guardar el nuevo archivo CSV sin NaN\n",
    "ruta_guardado = './comentarios_sin_vacios.csv'\n",
    "\n",
    "# Guardar el DataFrame resultante en un nuevo archivo CSV sin NaN\n",
    "df_sin_nan.to_csv(ruta_guardado, index=False)\n",
    "\n",
    "print(f\"El archivo sin NaN se ha guardado correctamente en '{ruta_guardado}'\")"
   ]
  },
  {
   "cell_type": "code",
   "execution_count": 41,
   "id": "4bf7191a-e9e7-4120-ab66-e72230a033af",
   "metadata": {},
   "outputs": [
    {
     "data": {
      "text/html": [
       "<div>\n",
       "<style scoped>\n",
       "    .dataframe tbody tr th:only-of-type {\n",
       "        vertical-align: middle;\n",
       "    }\n",
       "\n",
       "    .dataframe tbody tr th {\n",
       "        vertical-align: top;\n",
       "    }\n",
       "\n",
       "    .dataframe thead th {\n",
       "        text-align: right;\n",
       "    }\n",
       "</style>\n",
       "<table border=\"1\" class=\"dataframe\">\n",
       "  <thead>\n",
       "    <tr style=\"text-align: right;\">\n",
       "      <th></th>\n",
       "      <th>wiI7pd</th>\n",
       "    </tr>\n",
       "  </thead>\n",
       "  <tbody>\n",
       "    <tr>\n",
       "      <th>0</th>\n",
       "      <td>Un maltrato increíble. El guardia no deja entrar a al acompañante del enfermo. \"Ya se enterará si le pasa algo al enferno\" dijo el guardia con mala.actitud. Ojala el muerto nos haga una llamada del mas alla. Lo que se espera de IESS.</td>\n",
       "    </tr>\n",
       "    <tr>\n",
       "      <th>1</th>\n",
       "      <td>Pésimo servicio. Tiempo de espera de más de 4 horas para que al final no te atiendan porque no estás lo suficientemente grave</td>\n",
       "    </tr>\n",
       "    <tr>\n",
       "      <th>2</th>\n",
       "      <td>Hoy 27/06/23, necesitaba saber que paso con una derivación tramitada hace 2 meses que puestamente me llamaban  pero la persona encargada ni siquiera se comidio en averiguar que había pasado con mi proceso, pésima atención no ponen personas preparadas en información.</td>\n",
       "    </tr>\n",
       "    <tr>\n",
       "      <th>3</th>\n",
       "      <td>Pesimo servicio 3 horas para atencion y 3 maa para la entrega de resultados no es justo nosotros pagamoa nuestro seguro al dia y ellos se demoran mucho</td>\n",
       "    </tr>\n",
       "    <tr>\n",
       "      <th>4</th>\n",
       "      <td>El servicio lento, inoperante, burocrático, des humanizado solo se compara con la calidad del personal que aquí trabaja. Parece que nos están haciendo un favor, cuando la realidad es que gracias a nuestros aportes es que esta nefasta…</td>\n",
       "    </tr>\n",
       "  </tbody>\n",
       "</table>\n",
       "</div>"
      ],
      "text/plain": [
       "                                                                                                                                                                                                                                                                       wiI7pd\n",
       "0                                   Un maltrato increíble. El guardia no deja entrar a al acompañante del enfermo. \"Ya se enterará si le pasa algo al enferno\" dijo el guardia con mala.actitud. Ojala el muerto nos haga una llamada del mas alla. Lo que se espera de IESS.\n",
       "1                                                                                                                                               Pésimo servicio. Tiempo de espera de más de 4 horas para que al final no te atiendan porque no estás lo suficientemente grave\n",
       "2  Hoy 27/06/23, necesitaba saber que paso con una derivación tramitada hace 2 meses que puestamente me llamaban  pero la persona encargada ni siquiera se comidio en averiguar que había pasado con mi proceso, pésima atención no ponen personas preparadas en información.\n",
       "3                                                                                                                     Pesimo servicio 3 horas para atencion y 3 maa para la entrega de resultados no es justo nosotros pagamoa nuestro seguro al dia y ellos se demoran mucho\n",
       "4                                  El servicio lento, inoperante, burocrático, des humanizado solo se compara con la calidad del personal que aquí trabaja. Parece que nos están haciendo un favor, cuando la realidad es que gracias a nuestros aportes es que esta nefasta…"
      ]
     },
     "execution_count": 41,
     "metadata": {},
     "output_type": "execute_result"
    }
   ],
   "source": [
    "# Ruta al archivo CSV\n",
    "archivo_csv = './comentarios_sin_vacios.csv'\n",
    "\n",
    "# Cargar el archivo CSV en un DataFrame\n",
    "df = pd.read_csv(archivo_csv)\n",
    "\n",
    "# Eliminar los campos NaN\n",
    "df_sin_nan = df.dropna()\n",
    "\n",
    "# Mostrar las primeras filas del DataFrame resultante\n",
    "df_sin_nan.head(5)"
   ]
  },
  {
   "cell_type": "code",
   "execution_count": null,
   "id": "c9bc1c76-8052-42a8-bb77-127c612658ce",
   "metadata": {},
   "outputs": [],
   "source": []
  }
 ],
 "metadata": {
  "kernelspec": {
   "display_name": "Python 3 (ipykernel)",
   "language": "python",
   "name": "python3"
  },
  "language_info": {
   "codemirror_mode": {
    "name": "ipython",
    "version": 3
   },
   "file_extension": ".py",
   "mimetype": "text/x-python",
   "name": "python",
   "nbconvert_exporter": "python",
   "pygments_lexer": "ipython3",
   "version": "3.11.7"
  }
 },
 "nbformat": 4,
 "nbformat_minor": 5
}
