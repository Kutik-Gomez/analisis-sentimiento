{
 "cells": [
  {
   "cell_type": "code",
   "execution_count": 42,
   "id": "e5d8daa6-91a8-494a-8d1b-6362dd47c8f7",
   "metadata": {},
   "outputs": [
    {
     "name": "stdout",
     "output_type": "stream",
     "text": [
      "Los archivos se han unido correctamente y se han guardado en 'comentarios_unidos.csv'\n"
     ]
    }
   ],
   "source": [
    "import pandas as pd\n",
    "import glob\n",
    "import pandas as pd\n",
    "import os\n",
    "import numpy as np\n",
    "import matplotlib.pyplot as plt\n",
    "import seaborn as sns\n",
    "\n",
    "# Lista para almacenar los DataFrames\n",
    "dataframes = []\n",
    "\n",
    "# Patrón de nombres de archivos CSV\n",
    "archivo_patron = 'comentarios*.csv'\n",
    "\n",
    "# Usar glob para obtener una lista de todos los archivos que coinciden con el patrón\n",
    "archivos_csv = glob.glob(archivo_patron)\n",
    "\n",
    "# Leer cada archivo CSV y agregarlo a la lista de DataFrames\n",
    "for archivo in archivos_csv:\n",
    "    df = pd.read_csv(archivo)\n",
    "    dataframes.append(df)\n",
    "\n",
    "# Unir todos los DataFrames\n",
    "comentarios_unidos = pd.concat(dataframes, ignore_index=True)\n",
    "\n",
    "# Guardar el resultado en un nuevo archivo CSV\n",
    "comentarios_unidos.to_csv('comentarios_unidos.csv', index=False)\n",
    "\n",
    "print(\"Los archivos se han unido correctamente y se han guardado en 'comentarios_unidos.csv'\")\n",
    "\n"
   ]
  },
  {
   "cell_type": "code",
   "execution_count": 43,
   "id": "08af43dd-9380-42e4-8626-19041fb62393",
   "metadata": {},
   "outputs": [
    {
     "name": "stdout",
     "output_type": "stream",
     "text": [
      "<class 'pandas.core.frame.DataFrame'>\n",
      "RangeIndex: 10123 entries, 0 to 10122\n",
      "Data columns (total 1 columns):\n",
      " #   Column  Non-Null Count  Dtype \n",
      "---  ------  --------------  ----- \n",
      " 0   wiI7pd  7567 non-null   object\n",
      "dtypes: object(1)\n",
      "memory usage: 79.2+ KB\n",
      "None\n"
     ]
    }
   ],
   "source": [
    "# Reemplaza 'ruta/al/archivo.csv' con la ruta a tu archivo CSV\n",
    "archivo_csv = './comentarios_unidos.csv'\n",
    "\n",
    "# Cargar el archivo CSV en un DataFrame\n",
    "df = pd.read_csv(archivo_csv)\n",
    "print(df.info())\n"
   ]
  },
  {
   "cell_type": "code",
   "execution_count": 44,
   "id": "1f884aa5-84fb-4301-8d77-5b2f4ba7fec0",
   "metadata": {},
   "outputs": [
    {
     "data": {
      "text/html": [
       "<div>\n",
       "<style scoped>\n",
       "    .dataframe tbody tr th:only-of-type {\n",
       "        vertical-align: middle;\n",
       "    }\n",
       "\n",
       "    .dataframe tbody tr th {\n",
       "        vertical-align: top;\n",
       "    }\n",
       "\n",
       "    .dataframe thead th {\n",
       "        text-align: right;\n",
       "    }\n",
       "</style>\n",
       "<table border=\"1\" class=\"dataframe\">\n",
       "  <thead>\n",
       "    <tr style=\"text-align: right;\">\n",
       "      <th></th>\n",
       "      <th>wiI7pd</th>\n",
       "    </tr>\n",
       "  </thead>\n",
       "  <tbody>\n",
       "    <tr>\n",
       "      <th>0</th>\n",
       "      <td>Un maltrato increíble. El guardia no deja entrar a al acompañante del enfermo. \"Ya se enterará si le pasa algo al enferno\" dijo el guardia con mala.actitud. Ojala el muerto nos haga una llamada del mas alla. Lo que se espera de IESS.</td>\n",
       "    </tr>\n",
       "    <tr>\n",
       "      <th>1</th>\n",
       "      <td>Pésimo servicio. Tiempo de espera de más de 4 horas para que al final no te atiendan porque no estás lo suficientemente grave</td>\n",
       "    </tr>\n",
       "    <tr>\n",
       "      <th>2</th>\n",
       "      <td>Hoy 27/06/23, necesitaba saber que paso con una derivación tramitada hace 2 meses que puestamente me llamaban  pero la persona encargada ni siquiera se comidio en averiguar que había pasado con mi proceso, pésima atención no ponen personas preparadas en información.</td>\n",
       "    </tr>\n",
       "    <tr>\n",
       "      <th>3</th>\n",
       "      <td>Pesimo servicio 3 horas para atencion y 3 maa para la entrega de resultados no es justo nosotros pagamoa nuestro seguro al dia y ellos se demoran mucho</td>\n",
       "    </tr>\n",
       "    <tr>\n",
       "      <th>4</th>\n",
       "      <td>El servicio lento, inoperante, burocrático, des humanizado solo se compara con la calidad del personal que aquí trabaja. Parece que nos están haciendo un favor, cuando la realidad es que gracias a nuestros aportes es que esta nefasta…</td>\n",
       "    </tr>\n",
       "  </tbody>\n",
       "</table>\n",
       "</div>"
      ],
      "text/plain": [
       "                                                                                                                                                                                                                                                                       wiI7pd\n",
       "0                                   Un maltrato increíble. El guardia no deja entrar a al acompañante del enfermo. \"Ya se enterará si le pasa algo al enferno\" dijo el guardia con mala.actitud. Ojala el muerto nos haga una llamada del mas alla. Lo que se espera de IESS.\n",
       "1                                                                                                                                               Pésimo servicio. Tiempo de espera de más de 4 horas para que al final no te atiendan porque no estás lo suficientemente grave\n",
       "2  Hoy 27/06/23, necesitaba saber que paso con una derivación tramitada hace 2 meses que puestamente me llamaban  pero la persona encargada ni siquiera se comidio en averiguar que había pasado con mi proceso, pésima atención no ponen personas preparadas en información.\n",
       "3                                                                                                                     Pesimo servicio 3 horas para atencion y 3 maa para la entrega de resultados no es justo nosotros pagamoa nuestro seguro al dia y ellos se demoran mucho\n",
       "4                                  El servicio lento, inoperante, burocrático, des humanizado solo se compara con la calidad del personal que aquí trabaja. Parece que nos están haciendo un favor, cuando la realidad es que gracias a nuestros aportes es que esta nefasta…"
      ]
     },
     "execution_count": 44,
     "metadata": {},
     "output_type": "execute_result"
    }
   ],
   "source": [
    "# Ruta al archivo CSV\n",
    "archivo_csv = './comentarios_unidos.csv'\n",
    "\n",
    "# Cargar el archivo CSV en un DataFrame\n",
    "df = pd.read_csv(archivo_csv)\n",
    "\n",
    "# Eliminar los campos NaN\n",
    "df_sin_nan = df.dropna()\n",
    "\n",
    "# Mostrar las primeras filas del DataFrame resultante\n",
    "df_sin_nan.head(5)\n"
   ]
  },
  {
   "cell_type": "code",
   "execution_count": 45,
   "id": "a5126dd3-bbb6-45db-9408-8099d44bbded",
   "metadata": {},
   "outputs": [
    {
     "name": "stdout",
     "output_type": "stream",
     "text": [
      "                                                                                                                                                                                                                                                                       wiI7pd\n",
      "0                                   Un maltrato increíble. El guardia no deja entrar a al acompañante del enfermo. \"Ya se enterará si le pasa algo al enferno\" dijo el guardia con mala.actitud. Ojala el muerto nos haga una llamada del mas alla. Lo que se espera de IESS.\n",
      "1                                                                                                                                               Pésimo servicio. Tiempo de espera de más de 4 horas para que al final no te atiendan porque no estás lo suficientemente grave\n",
      "2  Hoy 27/06/23, necesitaba saber que paso con una derivación tramitada hace 2 meses que puestamente me llamaban  pero la persona encargada ni siquiera se comidio en averiguar que había pasado con mi proceso, pésima atención no ponen personas preparadas en información.\n",
      "3                                                                                                                     Pesimo servicio 3 horas para atencion y 3 maa para la entrega de resultados no es justo nosotros pagamoa nuestro seguro al dia y ellos se demoran mucho\n",
      "4                                  El servicio lento, inoperante, burocrático, des humanizado solo se compara con la calidad del personal que aquí trabaja. Parece que nos están haciendo un favor, cuando la realidad es que gracias a nuestros aportes es que esta nefasta…\n",
      "El archivo sin NaN se ha guardado correctamente en './comentarios_sin_vacios.csv'\n"
     ]
    }
   ],
   "source": [
    "# Ruta al archivo CSV original\n",
    "archivo_csv = './comentarios_unidos.csv'\n",
    "\n",
    "# Cargar el archivo CSV en un DataFrame\n",
    "df = pd.read_csv(archivo_csv)\n",
    "\n",
    "# Eliminar los campos NaN y guardar en un nuevo DataFrame\n",
    "df_sin_nan = df.dropna()\n",
    "\n",
    "# Mostrar las primeras filas del DataFrame resultante\n",
    "print(df_sin_nan.head())\n",
    "\n",
    "# Ruta para guardar el nuevo archivo CSV sin NaN\n",
    "ruta_guardado = './comentarios_sin_vacios.csv'\n",
    "\n",
    "# Guardar el DataFrame resultante en un nuevo archivo CSV sin NaN\n",
    "df_sin_nan.to_csv(ruta_guardado, index=False)\n",
    "\n",
    "print(f\"El archivo sin NaN se ha guardado correctamente en '{ruta_guardado}'\")"
   ]
  },
  {
   "cell_type": "code",
   "execution_count": 46,
   "id": "4bf7191a-e9e7-4120-ab66-e72230a033af",
   "metadata": {},
   "outputs": [
    {
     "data": {
      "text/html": [
       "<div>\n",
       "<style scoped>\n",
       "    .dataframe tbody tr th:only-of-type {\n",
       "        vertical-align: middle;\n",
       "    }\n",
       "\n",
       "    .dataframe tbody tr th {\n",
       "        vertical-align: top;\n",
       "    }\n",
       "\n",
       "    .dataframe thead th {\n",
       "        text-align: right;\n",
       "    }\n",
       "</style>\n",
       "<table border=\"1\" class=\"dataframe\">\n",
       "  <thead>\n",
       "    <tr style=\"text-align: right;\">\n",
       "      <th></th>\n",
       "      <th>wiI7pd</th>\n",
       "    </tr>\n",
       "  </thead>\n",
       "  <tbody>\n",
       "    <tr>\n",
       "      <th>0</th>\n",
       "      <td>Un maltrato increíble. El guardia no deja entrar a al acompañante del enfermo. \"Ya se enterará si le pasa algo al enferno\" dijo el guardia con mala.actitud. Ojala el muerto nos haga una llamada del mas alla. Lo que se espera de IESS.</td>\n",
       "    </tr>\n",
       "    <tr>\n",
       "      <th>1</th>\n",
       "      <td>Pésimo servicio. Tiempo de espera de más de 4 horas para que al final no te atiendan porque no estás lo suficientemente grave</td>\n",
       "    </tr>\n",
       "    <tr>\n",
       "      <th>2</th>\n",
       "      <td>Hoy 27/06/23, necesitaba saber que paso con una derivación tramitada hace 2 meses que puestamente me llamaban  pero la persona encargada ni siquiera se comidio en averiguar que había pasado con mi proceso, pésima atención no ponen personas preparadas en información.</td>\n",
       "    </tr>\n",
       "    <tr>\n",
       "      <th>3</th>\n",
       "      <td>Pesimo servicio 3 horas para atencion y 3 maa para la entrega de resultados no es justo nosotros pagamoa nuestro seguro al dia y ellos se demoran mucho</td>\n",
       "    </tr>\n",
       "    <tr>\n",
       "      <th>4</th>\n",
       "      <td>El servicio lento, inoperante, burocrático, des humanizado solo se compara con la calidad del personal que aquí trabaja. Parece que nos están haciendo un favor, cuando la realidad es que gracias a nuestros aportes es que esta nefasta…</td>\n",
       "    </tr>\n",
       "  </tbody>\n",
       "</table>\n",
       "</div>"
      ],
      "text/plain": [
       "                                                                                                                                                                                                                                                                       wiI7pd\n",
       "0                                   Un maltrato increíble. El guardia no deja entrar a al acompañante del enfermo. \"Ya se enterará si le pasa algo al enferno\" dijo el guardia con mala.actitud. Ojala el muerto nos haga una llamada del mas alla. Lo que se espera de IESS.\n",
       "1                                                                                                                                               Pésimo servicio. Tiempo de espera de más de 4 horas para que al final no te atiendan porque no estás lo suficientemente grave\n",
       "2  Hoy 27/06/23, necesitaba saber que paso con una derivación tramitada hace 2 meses que puestamente me llamaban  pero la persona encargada ni siquiera se comidio en averiguar que había pasado con mi proceso, pésima atención no ponen personas preparadas en información.\n",
       "3                                                                                                                     Pesimo servicio 3 horas para atencion y 3 maa para la entrega de resultados no es justo nosotros pagamoa nuestro seguro al dia y ellos se demoran mucho\n",
       "4                                  El servicio lento, inoperante, burocrático, des humanizado solo se compara con la calidad del personal que aquí trabaja. Parece que nos están haciendo un favor, cuando la realidad es que gracias a nuestros aportes es que esta nefasta…"
      ]
     },
     "execution_count": 46,
     "metadata": {},
     "output_type": "execute_result"
    }
   ],
   "source": [
    "# Ruta al archivo CSV\n",
    "archivo_csv = './comentarios_sin_vacios.csv'\n",
    "\n",
    "# Cargar el archivo CSV en un DataFrame\n",
    "df = pd.read_csv(archivo_csv)\n",
    "\n",
    "# Eliminar los campos NaN\n",
    "df_sin_nan = df.dropna()\n",
    "\n",
    "# Mostrar las primeras filas del DataFrame resultante\n",
    "df_sin_nan.head(5)"
   ]
  },
  {
   "cell_type": "code",
   "execution_count": 49,
   "id": "c9bc1c76-8052-42a8-bb77-127c612658ce",
   "metadata": {},
   "outputs": [
    {
     "name": "stdout",
     "output_type": "stream",
     "text": [
      "Primeras filas del dataframe:\n",
      "                                                                                                                                                                                                                                                                       wiI7pd\n",
      "0                                   Un maltrato increíble. El guardia no deja entrar a al acompañante del enfermo. \"Ya se enterará si le pasa algo al enferno\" dijo el guardia con mala.actitud. Ojala el muerto nos haga una llamada del mas alla. Lo que se espera de IESS.\n",
      "1                                                                                                                                               Pésimo servicio. Tiempo de espera de más de 4 horas para que al final no te atiendan porque no estás lo suficientemente grave\n",
      "2  Hoy 27/06/23, necesitaba saber que paso con una derivación tramitada hace 2 meses que puestamente me llamaban  pero la persona encargada ni siquiera se comidio en averiguar que había pasado con mi proceso, pésima atención no ponen personas preparadas en información.\n",
      "3                                                                                                                     Pesimo servicio 3 horas para atencion y 3 maa para la entrega de resultados no es justo nosotros pagamoa nuestro seguro al dia y ellos se demoran mucho\n",
      "4                                  El servicio lento, inoperante, burocrático, des humanizado solo se compara con la calidad del personal que aquí trabaja. Parece que nos están haciendo un favor, cuando la realidad es que gracias a nuestros aportes es que esta nefasta…\n",
      "\n",
      "Información del dataframe:\n",
      "<class 'pandas.core.frame.DataFrame'>\n",
      "RangeIndex: 7567 entries, 0 to 7566\n",
      "Data columns (total 1 columns):\n",
      " #   Column  Non-Null Count  Dtype \n",
      "---  ------  --------------  ----- \n",
      " 0   wiI7pd  7567 non-null   object\n",
      "dtypes: object(1)\n",
      "memory usage: 59.2+ KB\n",
      "None\n",
      "\n",
      "Resumen estadístico de columnas numéricas:\n",
      "                wiI7pd\n",
      "count             7567\n",
      "unique            1025\n",
      "top     Buena atención\n",
      "freq                77\n",
      "\n",
      "Conteo de valores únicos en cada columna:\n",
      "wiI7pd    1025\n",
      "dtype: int64\n"
     ]
    },
    {
     "ename": "ValueError",
     "evalue": "Could not interpret input 'categoria'",
     "output_type": "error",
     "traceback": [
      "\u001b[1;31m---------------------------------------------------------------------------\u001b[0m",
      "\u001b[1;31mValueError\u001b[0m                                Traceback (most recent call last)",
      "Cell \u001b[1;32mIn[49], line 33\u001b[0m\n\u001b[0;32m     31\u001b[0m \u001b[38;5;66;03m# Visualización de datos, por ejemplo, un gráfico de barras de las categorías de comentarios\u001b[39;00m\n\u001b[0;32m     32\u001b[0m plt\u001b[38;5;241m.\u001b[39mfigure(figsize\u001b[38;5;241m=\u001b[39m(\u001b[38;5;241m10\u001b[39m, \u001b[38;5;241m6\u001b[39m))\n\u001b[1;32m---> 33\u001b[0m sns\u001b[38;5;241m.\u001b[39mcountplot(x\u001b[38;5;241m=\u001b[39m\u001b[38;5;124m'\u001b[39m\u001b[38;5;124mcategoria\u001b[39m\u001b[38;5;124m'\u001b[39m, data\u001b[38;5;241m=\u001b[39mdf)\n\u001b[0;32m     34\u001b[0m plt\u001b[38;5;241m.\u001b[39mtitle(\u001b[38;5;124m'\u001b[39m\u001b[38;5;124mDistribución de Categorías de Comentarios\u001b[39m\u001b[38;5;124m'\u001b[39m)\n\u001b[0;32m     35\u001b[0m plt\u001b[38;5;241m.\u001b[39mxlabel(\u001b[38;5;124m'\u001b[39m\u001b[38;5;124mCategoría\u001b[39m\u001b[38;5;124m'\u001b[39m)\n",
      "File \u001b[1;32m~\\anaconda3\\Lib\\site-packages\\seaborn\\categorical.py:2943\u001b[0m, in \u001b[0;36mcountplot\u001b[1;34m(data, x, y, hue, order, hue_order, orient, color, palette, saturation, width, dodge, ax, **kwargs)\u001b[0m\n\u001b[0;32m   2940\u001b[0m \u001b[38;5;28;01melif\u001b[39;00m x \u001b[38;5;129;01mis\u001b[39;00m \u001b[38;5;129;01mnot\u001b[39;00m \u001b[38;5;28;01mNone\u001b[39;00m \u001b[38;5;129;01mand\u001b[39;00m y \u001b[38;5;129;01mis\u001b[39;00m \u001b[38;5;129;01mnot\u001b[39;00m \u001b[38;5;28;01mNone\u001b[39;00m:\n\u001b[0;32m   2941\u001b[0m     \u001b[38;5;28;01mraise\u001b[39;00m \u001b[38;5;167;01mValueError\u001b[39;00m(\u001b[38;5;124m\"\u001b[39m\u001b[38;5;124mCannot pass values for both `x` and `y`\u001b[39m\u001b[38;5;124m\"\u001b[39m)\n\u001b[1;32m-> 2943\u001b[0m plotter \u001b[38;5;241m=\u001b[39m _CountPlotter(\n\u001b[0;32m   2944\u001b[0m     x, y, hue, data, order, hue_order,\n\u001b[0;32m   2945\u001b[0m     estimator, errorbar, n_boot, units, seed,\n\u001b[0;32m   2946\u001b[0m     orient, color, palette, saturation,\n\u001b[0;32m   2947\u001b[0m     width, errcolor, errwidth, capsize, dodge\n\u001b[0;32m   2948\u001b[0m )\n\u001b[0;32m   2950\u001b[0m plotter\u001b[38;5;241m.\u001b[39mvalue_label \u001b[38;5;241m=\u001b[39m \u001b[38;5;124m\"\u001b[39m\u001b[38;5;124mcount\u001b[39m\u001b[38;5;124m\"\u001b[39m\n\u001b[0;32m   2952\u001b[0m \u001b[38;5;28;01mif\u001b[39;00m ax \u001b[38;5;129;01mis\u001b[39;00m \u001b[38;5;28;01mNone\u001b[39;00m:\n",
      "File \u001b[1;32m~\\anaconda3\\Lib\\site-packages\\seaborn\\categorical.py:1530\u001b[0m, in \u001b[0;36m_BarPlotter.__init__\u001b[1;34m(self, x, y, hue, data, order, hue_order, estimator, errorbar, n_boot, units, seed, orient, color, palette, saturation, width, errcolor, errwidth, capsize, dodge)\u001b[0m\n\u001b[0;32m   1525\u001b[0m \u001b[38;5;28;01mdef\u001b[39;00m \u001b[38;5;21m__init__\u001b[39m(\u001b[38;5;28mself\u001b[39m, x, y, hue, data, order, hue_order,\n\u001b[0;32m   1526\u001b[0m              estimator, errorbar, n_boot, units, seed,\n\u001b[0;32m   1527\u001b[0m              orient, color, palette, saturation, width,\n\u001b[0;32m   1528\u001b[0m              errcolor, errwidth, capsize, dodge):\n\u001b[0;32m   1529\u001b[0m \u001b[38;5;250m    \u001b[39m\u001b[38;5;124;03m\"\"\"Initialize the plotter.\"\"\"\u001b[39;00m\n\u001b[1;32m-> 1530\u001b[0m     \u001b[38;5;28mself\u001b[39m\u001b[38;5;241m.\u001b[39mestablish_variables(x, y, hue, data, orient,\n\u001b[0;32m   1531\u001b[0m                              order, hue_order, units)\n\u001b[0;32m   1532\u001b[0m     \u001b[38;5;28mself\u001b[39m\u001b[38;5;241m.\u001b[39mestablish_colors(color, palette, saturation)\n\u001b[0;32m   1533\u001b[0m     \u001b[38;5;28mself\u001b[39m\u001b[38;5;241m.\u001b[39mestimate_statistic(estimator, errorbar, n_boot, seed)\n",
      "File \u001b[1;32m~\\anaconda3\\Lib\\site-packages\\seaborn\\categorical.py:541\u001b[0m, in \u001b[0;36m_CategoricalPlotter.establish_variables\u001b[1;34m(self, x, y, hue, data, orient, order, hue_order, units)\u001b[0m\n\u001b[0;32m    539\u001b[0m     \u001b[38;5;28;01mif\u001b[39;00m \u001b[38;5;28misinstance\u001b[39m(var, \u001b[38;5;28mstr\u001b[39m):\n\u001b[0;32m    540\u001b[0m         err \u001b[38;5;241m=\u001b[39m \u001b[38;5;124mf\u001b[39m\u001b[38;5;124m\"\u001b[39m\u001b[38;5;124mCould not interpret input \u001b[39m\u001b[38;5;124m'\u001b[39m\u001b[38;5;132;01m{\u001b[39;00mvar\u001b[38;5;132;01m}\u001b[39;00m\u001b[38;5;124m'\u001b[39m\u001b[38;5;124m\"\u001b[39m\n\u001b[1;32m--> 541\u001b[0m         \u001b[38;5;28;01mraise\u001b[39;00m \u001b[38;5;167;01mValueError\u001b[39;00m(err)\n\u001b[0;32m    543\u001b[0m \u001b[38;5;66;03m# Figure out the plotting orientation\u001b[39;00m\n\u001b[0;32m    544\u001b[0m orient \u001b[38;5;241m=\u001b[39m infer_orient(\n\u001b[0;32m    545\u001b[0m     x, y, orient, require_numeric\u001b[38;5;241m=\u001b[39m\u001b[38;5;28mself\u001b[39m\u001b[38;5;241m.\u001b[39mrequire_numeric\n\u001b[0;32m    546\u001b[0m )\n",
      "\u001b[1;31mValueError\u001b[0m: Could not interpret input 'categoria'"
     ]
    },
    {
     "data": {
      "text/plain": [
       "<Figure size 1000x600 with 0 Axes>"
      ]
     },
     "metadata": {},
     "output_type": "display_data"
    }
   ],
   "source": [
    "# Ruta al archivo CSV\n",
    "archivo_csv = './comentarios_sin_vacios.csv'\n",
    "\n",
    "# Cargar datos desde el archivo CSV\n",
    "df = pd.read_csv(archivo_csv)\n",
    "\n",
    "# Visualizar las primeras filas del dataframe para entender su estructura\n",
    "print(\"Primeras filas del dataframe:\")\n",
    "print(df.head())\n",
    "\n",
    "# Información sobre el dataframe: columnas, tipos de datos, valores nulos, etc.\n",
    "print(\"\\nInformación del dataframe:\")\n",
    "print(df.info())\n",
    "\n",
    "# Estadísticas descriptivas de las columnas numéricas\n",
    "print(\"\\nResumen estadístico de columnas numéricas:\")\n",
    "print(df.describe())\n",
    "\n",
    "# Conteo de valores únicos en cada columna\n",
    "print(\"\\nConteo de valores únicos en cada columna:\")\n",
    "print(df.nunique())\n",
    "\n",
    "# Manejo de valores faltantes, si los hay\n",
    "# Ejemplo: eliminar filas con valores NaN en una columna específica\n",
    "# Supongamos que queremos eliminar filas donde la columna 'comentario' tenga valores NaN\n",
    "df = df.dropna(subset=['wiI7pd'])\n",
    "\n",
    "# Limpieza de texto, por ejemplo, eliminación de espacios en blanco al inicio y fin de una columna de texto\n",
    "df['wiI7pd'] = df['wiI7pd'].str.strip()\n",
    "\n",
    "# Visualización de datos, por ejemplo, un gráfico de barras de las categorías de comentarios\n",
    "plt.figure(figsize=(10, 6))\n",
    "sns.countplot(x='categoria', data=df)\n",
    "plt.title('Distribución de Categorías de Comentarios')\n",
    "plt.xlabel('Categoría')\n",
    "plt.ylabel('Cantidad')\n",
    "plt.xticks(rotation=45)\n",
    "plt.show()\n",
    "\n",
    "# Guardar el dataframe limpio en un nuevo archivo CSV\n",
    "df.to_csv('./comentarios_limpios.csv', index=False)\n",
    "print(\"\\n¡Datos limpios guardados en 'comentarios_limpios.csv'!\")"
   ]
  },
  {
   "cell_type": "code",
   "execution_count": null,
   "id": "e9101303-02ca-4fda-85e9-572a59d621c9",
   "metadata": {},
   "outputs": [],
   "source": []
  }
 ],
 "metadata": {
  "kernelspec": {
   "display_name": "Python 3 (ipykernel)",
   "language": "python",
   "name": "python3"
  },
  "language_info": {
   "codemirror_mode": {
    "name": "ipython",
    "version": 3
   },
   "file_extension": ".py",
   "mimetype": "text/x-python",
   "name": "python",
   "nbconvert_exporter": "python",
   "pygments_lexer": "ipython3",
   "version": "3.11.7"
  }
 },
 "nbformat": 4,
 "nbformat_minor": 5
}
