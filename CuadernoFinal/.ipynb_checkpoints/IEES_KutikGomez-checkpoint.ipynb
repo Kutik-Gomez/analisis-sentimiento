{
 "cells": [
  {
   "cell_type": "markdown",
   "id": "8979d51e-5a0a-4163-9841-b5275abfd922",
   "metadata": {},
   "source": [
    "# <center>PONTIFICIA UNIVERSIDAD CATÓLICA DEL ECUADOR</center>\n",
    "### <center>Proyecto Final</center>  \n",
    "### <center>CASO DE ESTUDIO: Análisis de sentimientos de los Centros de Atención del IESS en Quito </center>  \n",
    "\n",
    "**Nombre: Kutik Gómez** "
   ]
  },
  {
   "cell_type": "markdown",
   "id": "15a18599-0d4f-496d-9cdc-47f1a1c13785",
   "metadata": {},
   "source": [
    "## Objetivos\n",
    "\n",
    "### Objetivo General\n",
    "Implementar un sistema de aprendizaje automático para realizar un análisis de sentimiento de las opiniones de los usuarios sobre los Centros de Atención del IEES en Quito.\n",
    "### Objetivos Específicos\n",
    "* Revisar el marco teórico de aprendizaje automático / IA\n",
    "* Identificar numéricamente las palabras mas usadas en los mensajes emitidos por Guillermo  Lasso\n",
    "* Identificar gráficamente las palabras mas usadas en los mensajes emitidos por Guillermo  Lasso"
   ]
  },
  {
   "cell_type": "code",
   "execution_count": 12,
   "id": "af1a842d-a0bf-4974-9d34-e95a435ab418",
   "metadata": {},
   "outputs": [],
   "source": [
    "# Instalar las librerias necesarias para el trabajo\n",
    "import pandas as pd\n",
    "import glob\n",
    "import matplotlib.pyplot as plt\n",
    "import seaborn as sns\n",
    "import re\n",
    "from textblob import TextBlob\n",
    "import os\n",
    "import matplotlib.pyplot as plt"
   ]
  },
  {
   "cell_type": "code",
   "execution_count": 13,
   "id": "cf6822aa-ae44-43d3-ab50-d6d458d51209",
   "metadata": {},
   "outputs": [
    {
     "data": {
      "text/html": [
       "<div>\n",
       "<style scoped>\n",
       "    .dataframe tbody tr th:only-of-type {\n",
       "        vertical-align: middle;\n",
       "    }\n",
       "\n",
       "    .dataframe tbody tr th {\n",
       "        vertical-align: top;\n",
       "    }\n",
       "\n",
       "    .dataframe thead th {\n",
       "        text-align: right;\n",
       "    }\n",
       "</style>\n",
       "<table border=\"1\" class=\"dataframe\">\n",
       "  <thead>\n",
       "    <tr style=\"text-align: right;\">\n",
       "      <th></th>\n",
       "      <th>Comentarios</th>\n",
       "      <th>Sentimiento</th>\n",
       "    </tr>\n",
       "  </thead>\n",
       "  <tbody>\n",
       "    <tr>\n",
       "      <th>0</th>\n",
       "      <td>es un excelente centro médico de atención lame...</td>\n",
       "      <td>neutro</td>\n",
       "    </tr>\n",
       "    <tr>\n",
       "      <th>1</th>\n",
       "      <td>buen servicio y excelente atención médica y at...</td>\n",
       "      <td>positivo</td>\n",
       "    </tr>\n",
       "    <tr>\n",
       "      <th>2</th>\n",
       "      <td>hospital nuevo tiene más o menos un año equipo...</td>\n",
       "      <td>positivo</td>\n",
       "    </tr>\n",
       "    <tr>\n",
       "      <th>3</th>\n",
       "      <td>instalaciones siguen en buenas condiciones es...</td>\n",
       "      <td>positivo</td>\n",
       "    </tr>\n",
       "    <tr>\n",
       "      <th>4</th>\n",
       "      <td>excelente hospital con un amplio parqueadero q...</td>\n",
       "      <td>positivo</td>\n",
       "    </tr>\n",
       "    <tr>\n",
       "      <th>...</th>\n",
       "      <td>...</td>\n",
       "      <td>...</td>\n",
       "    </tr>\n",
       "    <tr>\n",
       "      <th>319</th>\n",
       "      <td>buena atención cuidan  procedimientos anti covid</td>\n",
       "      <td>positivo</td>\n",
       "    </tr>\n",
       "    <tr>\n",
       "      <th>320</th>\n",
       "      <td>día de hoy mi hija tenía cita cita médica per...</td>\n",
       "      <td>neutro</td>\n",
       "    </tr>\n",
       "    <tr>\n",
       "      <th>321</th>\n",
       "      <td>no hay turnos por  no hay medicinas no atiende...</td>\n",
       "      <td>negativo</td>\n",
       "    </tr>\n",
       "    <tr>\n",
       "      <th>322</th>\n",
       "      <td>se puede mejorar  atención a  pacientes en  ár...</td>\n",
       "      <td>neutro</td>\n",
       "    </tr>\n",
       "    <tr>\n",
       "      <th>323</th>\n",
       "      <td>no sé para que se asigna citas si  médicos no ...</td>\n",
       "      <td>neutro</td>\n",
       "    </tr>\n",
       "  </tbody>\n",
       "</table>\n",
       "<p>324 rows × 2 columns</p>\n",
       "</div>"
      ],
      "text/plain": [
       "                                           Comentarios Sentimiento\n",
       "0    es un excelente centro médico de atención lame...      neutro\n",
       "1    buen servicio y excelente atención médica y at...    positivo\n",
       "2    hospital nuevo tiene más o menos un año equipo...    positivo\n",
       "3     instalaciones siguen en buenas condiciones es...    positivo\n",
       "4    excelente hospital con un amplio parqueadero q...    positivo\n",
       "..                                                 ...         ...\n",
       "319   buena atención cuidan  procedimientos anti covid    positivo\n",
       "320   día de hoy mi hija tenía cita cita médica per...      neutro\n",
       "321  no hay turnos por  no hay medicinas no atiende...    negativo\n",
       "322  se puede mejorar  atención a  pacientes en  ár...      neutro\n",
       "323  no sé para que se asigna citas si  médicos no ...      neutro\n",
       "\n",
       "[324 rows x 2 columns]"
      ]
     },
     "execution_count": 13,
     "metadata": {},
     "output_type": "execute_result"
    }
   ],
   "source": [
    "datos = pd.read_csv('datosBalanceadosFin.csv')\n",
    "datos"
   ]
  },
  {
   "cell_type": "code",
   "execution_count": null,
   "id": "bee75d31-108e-46ae-90e6-590fd9165968",
   "metadata": {},
   "outputs": [],
   "source": []
  }
 ],
 "metadata": {
  "kernelspec": {
   "display_name": "Python 3 (ipykernel)",
   "language": "python",
   "name": "python3"
  },
  "language_info": {
   "codemirror_mode": {
    "name": "ipython",
    "version": 3
   },
   "file_extension": ".py",
   "mimetype": "text/x-python",
   "name": "python",
   "nbconvert_exporter": "python",
   "pygments_lexer": "ipython3",
   "version": "3.11.7"
  }
 },
 "nbformat": 4,
 "nbformat_minor": 5
}
