{
 "cells": [
  {
   "cell_type": "code",
   "execution_count": 46,
   "id": "70ec30ab-16b7-485f-837e-5e6b74e31fcf",
   "metadata": {},
   "outputs": [],
   "source": [
    "# Instalar las librerias necesarias para el trabajo\n",
    "import pandas as pd\n",
    "import glob\n",
    "import matplotlib.pyplot as plt\n",
    "import seaborn as sns\n",
    "import re\n",
    "from textblob import TextBlob\n",
    "import os\n",
    "import matplotlib.pyplot as plt"
   ]
  },
  {
   "cell_type": "code",
   "execution_count": 47,
   "id": "8c81974d-c4f6-4b72-9388-cce3e90a7d89",
   "metadata": {},
   "outputs": [
    {
     "data": {
      "text/html": [
       "<div>\n",
       "<style scoped>\n",
       "    .dataframe tbody tr th:only-of-type {\n",
       "        vertical-align: middle;\n",
       "    }\n",
       "\n",
       "    .dataframe tbody tr th {\n",
       "        vertical-align: top;\n",
       "    }\n",
       "\n",
       "    .dataframe thead th {\n",
       "        text-align: right;\n",
       "    }\n",
       "</style>\n",
       "<table border=\"1\" class=\"dataframe\">\n",
       "  <thead>\n",
       "    <tr style=\"text-align: right;\">\n",
       "      <th></th>\n",
       "      <th>wiI7pd</th>\n",
       "    </tr>\n",
       "  </thead>\n",
       "  <tbody>\n",
       "    <tr>\n",
       "      <th>0</th>\n",
       "      <td>Un maltrato increíble. El guardia no deja entr...</td>\n",
       "    </tr>\n",
       "    <tr>\n",
       "      <th>1</th>\n",
       "      <td>Pésimo servicio. Tiempo de espera de más de 4 ...</td>\n",
       "    </tr>\n",
       "    <tr>\n",
       "      <th>2</th>\n",
       "      <td>Hoy 27/06/23, necesitaba saber que paso con un...</td>\n",
       "    </tr>\n",
       "    <tr>\n",
       "      <th>3</th>\n",
       "      <td>Pesimo servicio 3 horas para atencion y 3 maa ...</td>\n",
       "    </tr>\n",
       "    <tr>\n",
       "      <th>4</th>\n",
       "      <td>El servicio lento, inoperante, burocrático, de...</td>\n",
       "    </tr>\n",
       "    <tr>\n",
       "      <th>...</th>\n",
       "      <td>...</td>\n",
       "    </tr>\n",
       "    <tr>\n",
       "      <th>1888</th>\n",
       "      <td>NaN</td>\n",
       "    </tr>\n",
       "    <tr>\n",
       "      <th>1889</th>\n",
       "      <td>NaN</td>\n",
       "    </tr>\n",
       "    <tr>\n",
       "      <th>1890</th>\n",
       "      <td>NaN</td>\n",
       "    </tr>\n",
       "    <tr>\n",
       "      <th>1891</th>\n",
       "      <td>NaN</td>\n",
       "    </tr>\n",
       "    <tr>\n",
       "      <th>1892</th>\n",
       "      <td>NaN</td>\n",
       "    </tr>\n",
       "  </tbody>\n",
       "</table>\n",
       "<p>1893 rows × 1 columns</p>\n",
       "</div>"
      ],
      "text/plain": [
       "                                                 wiI7pd\n",
       "0     Un maltrato increíble. El guardia no deja entr...\n",
       "1     Pésimo servicio. Tiempo de espera de más de 4 ...\n",
       "2     Hoy 27/06/23, necesitaba saber que paso con un...\n",
       "3     Pesimo servicio 3 horas para atencion y 3 maa ...\n",
       "4     El servicio lento, inoperante, burocrático, de...\n",
       "...                                                 ...\n",
       "1888                                                NaN\n",
       "1889                                                NaN\n",
       "1890                                                NaN\n",
       "1891                                                NaN\n",
       "1892                                                NaN\n",
       "\n",
       "[1893 rows x 1 columns]"
      ]
     },
     "execution_count": 47,
     "metadata": {},
     "output_type": "execute_result"
    }
   ],
   "source": [
    "# Cargar los datos para saber como están sin proceso de limpieza\n",
    "comentarios = pd.read_csv('solocomentarios.csv')\n",
    "comentarios"
   ]
  },
  {
   "cell_type": "markdown",
   "id": "9497e051-4134-4fd3-a4af-59fece120085",
   "metadata": {},
   "source": [
    "# Limpieza de los datos"
   ]
  },
  {
   "cell_type": "code",
   "execution_count": 48,
   "id": "e5b6cfc4-598e-49c7-ba54-8c67e7746863",
   "metadata": {},
   "outputs": [
    {
     "name": "stdout",
     "output_type": "stream",
     "text": [
      "El DataFrame limpio se ha guardado en 'comentariosLimpios.csv'.\n"
     ]
    },
    {
     "data": {
      "text/html": [
       "<div>\n",
       "<style scoped>\n",
       "    .dataframe tbody tr th:only-of-type {\n",
       "        vertical-align: middle;\n",
       "    }\n",
       "\n",
       "    .dataframe tbody tr th {\n",
       "        vertical-align: top;\n",
       "    }\n",
       "\n",
       "    .dataframe thead th {\n",
       "        text-align: right;\n",
       "    }\n",
       "</style>\n",
       "<table border=\"1\" class=\"dataframe\">\n",
       "  <thead>\n",
       "    <tr style=\"text-align: right;\">\n",
       "      <th></th>\n",
       "      <th>wiI7pd</th>\n",
       "    </tr>\n",
       "  </thead>\n",
       "  <tbody>\n",
       "    <tr>\n",
       "      <th>0</th>\n",
       "      <td>Un maltrato increíble. El guardia no deja entr...</td>\n",
       "    </tr>\n",
       "    <tr>\n",
       "      <th>1</th>\n",
       "      <td>Pésimo servicio. Tiempo de espera de más de 4 ...</td>\n",
       "    </tr>\n",
       "    <tr>\n",
       "      <th>2</th>\n",
       "      <td>Hoy 27/06/23, necesitaba saber que paso con un...</td>\n",
       "    </tr>\n",
       "    <tr>\n",
       "      <th>3</th>\n",
       "      <td>Pesimo servicio 3 horas para atencion y 3 maa ...</td>\n",
       "    </tr>\n",
       "    <tr>\n",
       "      <th>4</th>\n",
       "      <td>El servicio lento, inoperante, burocrático, de...</td>\n",
       "    </tr>\n",
       "    <tr>\n",
       "      <th>...</th>\n",
       "      <td>...</td>\n",
       "    </tr>\n",
       "    <tr>\n",
       "      <th>1861</th>\n",
       "      <td>Bien</td>\n",
       "    </tr>\n",
       "    <tr>\n",
       "      <th>1862</th>\n",
       "      <td>Exelente</td>\n",
       "    </tr>\n",
       "    <tr>\n",
       "      <th>1863</th>\n",
       "      <td>Trato oportuno</td>\n",
       "    </tr>\n",
       "    <tr>\n",
       "      <th>1864</th>\n",
       "      <td>Bueno</td>\n",
       "    </tr>\n",
       "    <tr>\n",
       "      <th>1865</th>\n",
       "      <td>Pésima atención parece un mercado</td>\n",
       "    </tr>\n",
       "  </tbody>\n",
       "</table>\n",
       "<p>1183 rows × 1 columns</p>\n",
       "</div>"
      ],
      "text/plain": [
       "                                                 wiI7pd\n",
       "0     Un maltrato increíble. El guardia no deja entr...\n",
       "1     Pésimo servicio. Tiempo de espera de más de 4 ...\n",
       "2     Hoy 27/06/23, necesitaba saber que paso con un...\n",
       "3     Pesimo servicio 3 horas para atencion y 3 maa ...\n",
       "4     El servicio lento, inoperante, burocrático, de...\n",
       "...                                                 ...\n",
       "1861                                               Bien\n",
       "1862                                           Exelente\n",
       "1863                                     Trato oportuno\n",
       "1864                                              Bueno\n",
       "1865                  Pésima atención parece un mercado\n",
       "\n",
       "[1183 rows x 1 columns]"
      ]
     },
     "execution_count": 48,
     "metadata": {},
     "output_type": "execute_result"
    }
   ],
   "source": [
    "# Leer el archivo \n",
    "df = pd.read_csv('solocomentarios.csv')\n",
    "# Eliminar la filas que tenga vacios\n",
    "datosLimpios = df.dropna()\n",
    "# Mostrar el dataset\n",
    "datosLimpios\n",
    "\n",
    "# Guardar el dataset limpio sin vacios llamando 'comentarios'\n",
    "datosLimpios.to_csv('comentarios1.csv', index=False)\n",
    "\n",
    "print(\"El DataFrame limpio se ha guardado en 'comentariosLimpios.csv'.\")\n",
    "\n",
    "#Mostrar\n",
    "datosLimpios"
   ]
  },
  {
   "cell_type": "code",
   "execution_count": 49,
   "id": "9021e31a-38cf-4e85-91aa-513647188cf6",
   "metadata": {},
   "outputs": [],
   "source": [
    "# Asignar el DataFrame cargado a df_cleaned\n",
    "df_cleaned = datosLimpios.copy()\n",
    "# Funcion de Limpieza\n",
    "def limpiar_comentarios(texto):\n",
    "    texto = re.sub(r'^RT[\\s]+', '', texto)\n",
    "    texto = re.sub(r'https?:\\/\\/.*[\\r\\n*]', '', texto)\n",
    "    texto = re.sub(r'#', '', texto)\n",
    "    texto = re.sub(r'@[A-Za-z0-9_]+', '', texto)\n",
    "    texto = re.sub(r'http\\S+|www.\\S+|pic.\\S+|\\S+.com\\S*|\\S+.org\\S*|\\S+.net\\S*', '', texto)\n",
    "    texto = re.sub(r'[^\\w\\s]', '', texto)\n",
    "    texto = re.sub(r'^\\d+$', '', texto)\n",
    "    return texto.lower().strip()"
   ]
  },
  {
   "cell_type": "code",
   "execution_count": 50,
   "id": "e9219831-3e9c-46f8-9605-e7df4d590ef6",
   "metadata": {},
   "outputs": [],
   "source": [
    "# Limpieza de la columna comentarios en este caso se llama wiI7pd\n",
    "if 'wiI7pd' in df_cleaned.columns:\n",
    "    df_cleaned['wiI7pd'] = df_cleaned['wiI7pd'].apply(limpiar_comentarios)\n",
    "else:\n",
    "    print(\"La columna 'wiI7pd' no existe en el DataFrame.\")\n",
    "\n",
    "# Guardar el DataFrame limpio en un nuevo archivo CSV\n",
    "df_cleaned.to_csv('comentarios2.csv', index=False)"
   ]
  },
  {
   "cell_type": "code",
   "execution_count": 51,
   "id": "d7c3d574-762b-4fa6-9fcf-5b962d4b6acd",
   "metadata": {},
   "outputs": [
    {
     "name": "stdout",
     "output_type": "stream",
     "text": [
      "Primeras filas del DataFrame original:\n",
      "                                              wiI7pd\n",
      "0  Un maltrato increíble. El guardia no deja entr...\n",
      "1  Pésimo servicio. Tiempo de espera de más de 4 ...\n",
      "2  Hoy 27/06/23, necesitaba saber que paso con un...\n",
      "3  Pesimo servicio 3 horas para atencion y 3 maa ...\n",
      "4  El servicio lento, inoperante, burocrático, de...\n",
      "Primeras filas del DataFrame limpio:\n",
      "                                              wiI7pd\n",
      "0  un maltrato increíble el guardia no deja entra...\n",
      "1  pésimo servicio tiempo de espera de más de 4 h...\n",
      "2  hoy 270623 necesitaba saber que paso con una d...\n",
      "3  pesimo servicio 3 horas para atencion y 3 maa ...\n",
      "4  el servicio lento inoperante burocrático des h...\n"
     ]
    }
   ],
   "source": [
    "# Cargar los datos desde un archivo CSV\n",
    "cm_antes = pd.read_csv('comentarios1.csv')\n",
    "cm_despues = pd.read_csv('comentarios2.csv')\n",
    "\n",
    "# Mostrar las primeras filas de ambos DataFrames para verificar la carga correcta\n",
    "print(\"Primeras filas del DataFrame original:\")\n",
    "print(cm_antes.head())\n",
    "\n",
    "print(\"Primeras filas del DataFrame limpio:\")\n",
    "print(cm_despues.head())"
   ]
  },
  {
   "cell_type": "code",
   "execution_count": 52,
   "id": "bc076625-b125-4414-a637-a70ce24c8c50",
   "metadata": {},
   "outputs": [
    {
     "name": "stdout",
     "output_type": "stream",
     "text": [
      "El DataFrame limpio se ha guardado en 'comentarios3.csv'.\n"
     ]
    },
    {
     "data": {
      "text/html": [
       "<div>\n",
       "<style scoped>\n",
       "    .dataframe tbody tr th:only-of-type {\n",
       "        vertical-align: middle;\n",
       "    }\n",
       "\n",
       "    .dataframe tbody tr th {\n",
       "        vertical-align: top;\n",
       "    }\n",
       "\n",
       "    .dataframe thead th {\n",
       "        text-align: right;\n",
       "    }\n",
       "</style>\n",
       "<table border=\"1\" class=\"dataframe\">\n",
       "  <thead>\n",
       "    <tr style=\"text-align: right;\">\n",
       "      <th></th>\n",
       "      <th>wiI7pd</th>\n",
       "    </tr>\n",
       "  </thead>\n",
       "  <tbody>\n",
       "    <tr>\n",
       "      <th>0</th>\n",
       "      <td>un maltrato increíble el guardia no deja entra...</td>\n",
       "    </tr>\n",
       "    <tr>\n",
       "      <th>1</th>\n",
       "      <td>pésimo servicio tiempo de espera de más de 4 h...</td>\n",
       "    </tr>\n",
       "    <tr>\n",
       "      <th>2</th>\n",
       "      <td>hoy 270623 necesitaba saber que paso con una d...</td>\n",
       "    </tr>\n",
       "    <tr>\n",
       "      <th>3</th>\n",
       "      <td>pesimo servicio 3 horas para atencion y 3 maa ...</td>\n",
       "    </tr>\n",
       "    <tr>\n",
       "      <th>4</th>\n",
       "      <td>el servicio lento inoperante burocrático des h...</td>\n",
       "    </tr>\n",
       "    <tr>\n",
       "      <th>...</th>\n",
       "      <td>...</td>\n",
       "    </tr>\n",
       "    <tr>\n",
       "      <th>1178</th>\n",
       "      <td>bien</td>\n",
       "    </tr>\n",
       "    <tr>\n",
       "      <th>1179</th>\n",
       "      <td>exelente</td>\n",
       "    </tr>\n",
       "    <tr>\n",
       "      <th>1180</th>\n",
       "      <td>trato oportuno</td>\n",
       "    </tr>\n",
       "    <tr>\n",
       "      <th>1181</th>\n",
       "      <td>bueno</td>\n",
       "    </tr>\n",
       "    <tr>\n",
       "      <th>1182</th>\n",
       "      <td>pésima atención parece un mercado</td>\n",
       "    </tr>\n",
       "  </tbody>\n",
       "</table>\n",
       "<p>1177 rows × 1 columns</p>\n",
       "</div>"
      ],
      "text/plain": [
       "                                                 wiI7pd\n",
       "0     un maltrato increíble el guardia no deja entra...\n",
       "1     pésimo servicio tiempo de espera de más de 4 h...\n",
       "2     hoy 270623 necesitaba saber que paso con una d...\n",
       "3     pesimo servicio 3 horas para atencion y 3 maa ...\n",
       "4     el servicio lento inoperante burocrático des h...\n",
       "...                                                 ...\n",
       "1178                                               bien\n",
       "1179                                           exelente\n",
       "1180                                     trato oportuno\n",
       "1181                                              bueno\n",
       "1182                  pésima atención parece un mercado\n",
       "\n",
       "[1177 rows x 1 columns]"
      ]
     },
     "execution_count": 52,
     "metadata": {},
     "output_type": "execute_result"
    }
   ],
   "source": [
    "# Eliminar nuevamente filas vacias\n",
    "df = pd.read_csv('comentarios2.csv')\n",
    "# Eliminar la filas que tenga vacios\n",
    "datosLimpios = df.dropna()\n",
    "# Mostrar el dataset\n",
    "datosLimpios\n",
    "\n",
    "# Guardar el dataset limpio sin filas vacias\n",
    "datosLimpios.to_csv('comentarios3.csv', index=False)\n",
    "\n",
    "print(\"El DataFrame limpio se ha guardado en 'comentarios3.csv'.\")\n",
    "\n",
    "#Mostrar\n",
    "datosLimpios"
   ]
  },
  {
   "cell_type": "code",
   "execution_count": 53,
   "id": "996b9375-d267-4c62-aa4e-d41db4e97e69",
   "metadata": {},
   "outputs": [],
   "source": [
    "# Eliminar filas manualmente después de revisar si algunos datos que no sirven o tenga una palabra inadeacuado\n",
    "\n",
    "df = pd.read_csv('comentarios3.csv').drop(index=[261, 416, 660, 690, 1083, 1084,])\n",
    "\n",
    "# Guardar el DataFrame modificado en un nuevo archivo CSV\n",
    "df.to_csv('comentarios4.csv', index=False)"
   ]
  },
  {
   "cell_type": "code",
   "execution_count": 54,
   "id": "b788f06c-d1e9-44a4-aef8-ab22a205cd2e",
   "metadata": {},
   "outputs": [],
   "source": [
    "# Eliminar registros duplicados del dataset\n",
    "\n",
    "df = pd.read_csv('comentarios4.csv').drop_duplicates()\n",
    "\n",
    "# Guardar el DataFrame modificado sin duplicados en un nuevo archivo CSV\n",
    "df.to_csv('comentarios5.csv', index=False)"
   ]
  },
  {
   "cell_type": "code",
   "execution_count": 55,
   "id": "98022168-5ace-4e1e-91b2-283a6dd496dc",
   "metadata": {},
   "outputs": [
    {
     "name": "stdout",
     "output_type": "stream",
     "text": [
      "wiI7pd    1183\n",
      "dtype: int64\n",
      "wiI7pd    1171\n",
      "dtype: int64\n",
      "wiI7pd    1100\n",
      "dtype: int64\n"
     ]
    }
   ],
   "source": [
    "# Mostrar los cambios que existe de los filtros que se realizaron\n",
    "original = pd.read_csv('solocomentarios.csv')\n",
    "limpiando = pd.read_csv('comentarios4.csv')\n",
    "resultado = pd.read_csv('comentarios5.csv')\n",
    "\n",
    "print(original.count())\n",
    "print( limpiando.count())\n",
    "print( resultado.count())"
   ]
  },
  {
   "cell_type": "code",
   "execution_count": 56,
   "id": "4b76d5b5-7ecc-493b-998c-0a86eda1c84e",
   "metadata": {},
   "outputs": [
    {
     "name": "stdout",
     "output_type": "stream",
     "text": [
      "                                              wiI7pd\n",
      "0  un maltrato increíble el guardia no deja entra...\n",
      "1  pésimo servicio tiempo de espera de más de 4 h...\n",
      "2  hoy 270623 necesitaba saber que paso con una d...\n",
      "3  pesimo servicio 3 horas para atencion y 3 maa ...\n",
      "4  el servicio lento inoperante burocrático des h...\n"
     ]
    }
   ],
   "source": [
    "# Cargar el conjunto de datos desde un archivo CSV\n",
    "archivo = 'comentarios5.csv'\n",
    "df = pd.read_csv(archivo)\n",
    "# Visualizar los primeros registros para verificar la estructura\n",
    "print(df.head())"
   ]
  },
  {
   "cell_type": "code",
   "execution_count": 57,
   "id": "d19667c3-cc45-4b87-876d-2ab2971e941c",
   "metadata": {},
   "outputs": [
    {
     "name": "stdout",
     "output_type": "stream",
     "text": [
      "Traducción completada y guardada en 'traducidoIngles.csv'\n"
     ]
    }
   ],
   "source": [
    "from deep_translator import GoogleTranslator\n",
    "from concurrent.futures import ThreadPoolExecutor, as_completed\n",
    "\n",
    "# Cargar el archivo CSV\n",
    "df = pd.read_csv('comentarios5.csv')\n",
    "\n",
    "# Inicializar el traductor\n",
    "translator = GoogleTranslator(source='es', target='en')\n",
    "\n",
    "# Función para traducir un comentario\n",
    "def traducir_comentario(comentario):\n",
    "    try:\n",
    "        return translator.translate(comentario)\n",
    "    except Exception as e:\n",
    "        print(f\"Error al traducir comentario: {comentario}\\nError: {e}\")\n",
    "        return comentario  # En caso de error, dejar el comentario original\n",
    "\n",
    "# Crear una lista para almacenar los comentarios traducidos\n",
    "comentarios_traducidos = []\n",
    "\n",
    "# Usar ThreadPoolExecutor para paralelizar el proceso de traducción\n",
    "with ThreadPoolExecutor(max_workers=10) as executor:\n",
    "    future_to_comentario = {executor.submit(traducir_comentario, row['wiI7pd']): index for index, row in df.iterrows()}\n",
    "    for future in as_completed(future_to_comentario):\n",
    "        index = future_to_comentario[future]\n",
    "        try:\n",
    "            traducido = future.result()\n",
    "        except Exception as e:\n",
    "            print(f\"Error al obtener resultado de la traducción en fila {index}: {e}\")\n",
    "            traducido = df.loc[index, 'wiI7pd']  # En caso de error, dejar el comentario original\n",
    "        comentarios_traducidos.append(traducido)\n",
    "\n",
    "# Añadir la columna de comentarios traducidos al DataFrame\n",
    "df['comentarios_traducidos'] = comentarios_traducidos\n",
    "\n",
    "# Guardar el DataFrame con los comentarios traducidos en un nuevo archivo CSV\n",
    "df.to_csv('traducidoIngles.csv', index=False)\n",
    "\n",
    "print(\"Traducción completada y guardada en 'traducidoIngles.csv'\")\n"
   ]
  },
  {
   "cell_type": "code",
   "execution_count": 62,
   "id": "deab06cb-d9f6-44ca-9942-d3c5174eb986",
   "metadata": {},
   "outputs": [
    {
     "name": "stdout",
     "output_type": "stream",
     "text": [
      "                                              wiI7pd  \\\n",
      "0  un maltrato increíble el guardia no deja entra...   \n",
      "1  pésimo servicio tiempo de espera de más de 4 h...   \n",
      "2  hoy 270623 necesitaba saber que paso con una d...   \n",
      "3  pesimo servicio 3 horas para atencion y 3 maa ...   \n",
      "4  el servicio lento inoperante burocrático des h...   \n",
      "\n",
      "                              comentarios_traducidos  \n",
      "0  It is a very old hospital that needs urgent re...  \n",
      "1  The slow, inoperative bureaucratic service deh...  \n",
      "2  Total regret, I took my daughter with a fever ...  \n",
      "3  The slow, inoperative bureaucratic service deh...  \n",
      "4  The slow, inoperative bureaucratic service deh...  \n"
     ]
    }
   ],
   "source": [
    "traducido = pd.read_csv('traducidoIngles.csv')\n",
    "print((traducido.head()))"
   ]
  },
  {
   "cell_type": "markdown",
   "id": "ed207a8a-1c4d-421b-89df-a9efd77ce5b8",
   "metadata": {},
   "source": [
    "### Clasificación de Comentarios"
   ]
  },
  {
   "cell_type": "code",
   "execution_count": 64,
   "id": "34492b22-1906-4428-9967-7289bc141333",
   "metadata": {},
   "outputs": [
    {
     "data": {
      "text/html": [
       "<div>\n",
       "<style scoped>\n",
       "    .dataframe tbody tr th:only-of-type {\n",
       "        vertical-align: middle;\n",
       "    }\n",
       "\n",
       "    .dataframe tbody tr th {\n",
       "        vertical-align: top;\n",
       "    }\n",
       "\n",
       "    .dataframe thead th {\n",
       "        text-align: right;\n",
       "    }\n",
       "</style>\n",
       "<table border=\"1\" class=\"dataframe\">\n",
       "  <thead>\n",
       "    <tr style=\"text-align: right;\">\n",
       "      <th></th>\n",
       "      <th>wiI7pd</th>\n",
       "      <th>comentarios_traducidos</th>\n",
       "      <th>polaridad</th>\n",
       "    </tr>\n",
       "  </thead>\n",
       "  <tbody>\n",
       "    <tr>\n",
       "      <th>0</th>\n",
       "      <td>un maltrato increíble el guardia no deja entra...</td>\n",
       "      <td>It is a very old hospital that needs urgent re...</td>\n",
       "      <td>0.288333</td>\n",
       "    </tr>\n",
       "    <tr>\n",
       "      <th>1</th>\n",
       "      <td>pésimo servicio tiempo de espera de más de 4 h...</td>\n",
       "      <td>The slow, inoperative bureaucratic service deh...</td>\n",
       "      <td>-0.200000</td>\n",
       "    </tr>\n",
       "    <tr>\n",
       "      <th>2</th>\n",
       "      <td>hoy 270623 necesitaba saber que paso con una d...</td>\n",
       "      <td>Total regret, I took my daughter with a fever ...</td>\n",
       "      <td>-0.283333</td>\n",
       "    </tr>\n",
       "    <tr>\n",
       "      <th>3</th>\n",
       "      <td>pesimo servicio 3 horas para atencion y 3 maa ...</td>\n",
       "      <td>The slow, inoperative bureaucratic service deh...</td>\n",
       "      <td>-0.200000</td>\n",
       "    </tr>\n",
       "    <tr>\n",
       "      <th>4</th>\n",
       "      <td>el servicio lento inoperante burocrático des h...</td>\n",
       "      <td>The slow, inoperative bureaucratic service deh...</td>\n",
       "      <td>-0.200000</td>\n",
       "    </tr>\n",
       "  </tbody>\n",
       "</table>\n",
       "</div>"
      ],
      "text/plain": [
       "                                              wiI7pd  \\\n",
       "0  un maltrato increíble el guardia no deja entra...   \n",
       "1  pésimo servicio tiempo de espera de más de 4 h...   \n",
       "2  hoy 270623 necesitaba saber que paso con una d...   \n",
       "3  pesimo servicio 3 horas para atencion y 3 maa ...   \n",
       "4  el servicio lento inoperante burocrático des h...   \n",
       "\n",
       "                              comentarios_traducidos  polaridad  \n",
       "0  It is a very old hospital that needs urgent re...   0.288333  \n",
       "1  The slow, inoperative bureaucratic service deh...  -0.200000  \n",
       "2  Total regret, I took my daughter with a fever ...  -0.283333  \n",
       "3  The slow, inoperative bureaucratic service deh...  -0.200000  \n",
       "4  The slow, inoperative bureaucratic service deh...  -0.200000  "
      ]
     },
     "execution_count": 64,
     "metadata": {},
     "output_type": "execute_result"
    }
   ],
   "source": [
    "# Función para obtener la polaridad del comentario\n",
    "def obtener_polaridad(texto):\n",
    "    analisis = TextBlob(texto)\n",
    "    resultado = analisis.sentiment.polarity\n",
    "    return resultado\n",
    "\n",
    "# Cargar el archivo CSV\n",
    "df = pd.read_csv('traducidoIngles.csv')\n",
    "\n",
    "# Verificar si la columna 'comentarios_traducidos' está presente\n",
    "if 'comentarios_traducidos' not in df.columns:\n",
    "    raise ValueError(\"El archivo CSV no contiene una columna 'comentarios_traducidos'.\")\n",
    "\n",
    "# Aplicar el análisis de sentimiento\n",
    "df['polaridad'] = df['comentarios_traducidos'].apply(obtener_polaridad)\n",
    "\n",
    "# Mostrar los resultados intermedios\n",
    "df.head()"
   ]
  },
  {
   "cell_type": "code",
   "execution_count": 65,
   "id": "9816ff97-6f81-4d11-b5ac-5a4383a3cf59",
   "metadata": {},
   "outputs": [
    {
     "data": {
      "text/html": [
       "<div>\n",
       "<style scoped>\n",
       "    .dataframe tbody tr th:only-of-type {\n",
       "        vertical-align: middle;\n",
       "    }\n",
       "\n",
       "    .dataframe tbody tr th {\n",
       "        vertical-align: top;\n",
       "    }\n",
       "\n",
       "    .dataframe thead th {\n",
       "        text-align: right;\n",
       "    }\n",
       "</style>\n",
       "<table border=\"1\" class=\"dataframe\">\n",
       "  <thead>\n",
       "    <tr style=\"text-align: right;\">\n",
       "      <th></th>\n",
       "      <th>wiI7pd</th>\n",
       "      <th>comentarios_traducidos</th>\n",
       "      <th>polaridad</th>\n",
       "      <th>etiquetas_TB</th>\n",
       "    </tr>\n",
       "  </thead>\n",
       "  <tbody>\n",
       "    <tr>\n",
       "      <th>0</th>\n",
       "      <td>un maltrato increíble el guardia no deja entra...</td>\n",
       "      <td>It is a very old hospital that needs urgent re...</td>\n",
       "      <td>0.288333</td>\n",
       "      <td>positivo</td>\n",
       "    </tr>\n",
       "    <tr>\n",
       "      <th>1</th>\n",
       "      <td>pésimo servicio tiempo de espera de más de 4 h...</td>\n",
       "      <td>The slow, inoperative bureaucratic service deh...</td>\n",
       "      <td>-0.200000</td>\n",
       "      <td>negativo</td>\n",
       "    </tr>\n",
       "    <tr>\n",
       "      <th>2</th>\n",
       "      <td>hoy 270623 necesitaba saber que paso con una d...</td>\n",
       "      <td>Total regret, I took my daughter with a fever ...</td>\n",
       "      <td>-0.283333</td>\n",
       "      <td>negativo</td>\n",
       "    </tr>\n",
       "    <tr>\n",
       "      <th>3</th>\n",
       "      <td>pesimo servicio 3 horas para atencion y 3 maa ...</td>\n",
       "      <td>The slow, inoperative bureaucratic service deh...</td>\n",
       "      <td>-0.200000</td>\n",
       "      <td>negativo</td>\n",
       "    </tr>\n",
       "    <tr>\n",
       "      <th>4</th>\n",
       "      <td>el servicio lento inoperante burocrático des h...</td>\n",
       "      <td>The slow, inoperative bureaucratic service deh...</td>\n",
       "      <td>-0.200000</td>\n",
       "      <td>negativo</td>\n",
       "    </tr>\n",
       "  </tbody>\n",
       "</table>\n",
       "</div>"
      ],
      "text/plain": [
       "                                              wiI7pd  \\\n",
       "0  un maltrato increíble el guardia no deja entra...   \n",
       "1  pésimo servicio tiempo de espera de más de 4 h...   \n",
       "2  hoy 270623 necesitaba saber que paso con una d...   \n",
       "3  pesimo servicio 3 horas para atencion y 3 maa ...   \n",
       "4  el servicio lento inoperante burocrático des h...   \n",
       "\n",
       "                              comentarios_traducidos  polaridad etiquetas_TB  \n",
       "0  It is a very old hospital that needs urgent re...   0.288333     positivo  \n",
       "1  The slow, inoperative bureaucratic service deh...  -0.200000     negativo  \n",
       "2  Total regret, I took my daughter with a fever ...  -0.283333     negativo  \n",
       "3  The slow, inoperative bureaucratic service deh...  -0.200000     negativo  \n",
       "4  The slow, inoperative bureaucratic service deh...  -0.200000     negativo  "
      ]
     },
     "execution_count": 65,
     "metadata": {},
     "output_type": "execute_result"
    }
   ],
   "source": [
    "# Función para clasificar el sentimiento según su polaridad\n",
    "def sentimiento(label):\n",
    "    if label < 0:\n",
    "        return \"negativo\"\n",
    "    elif label == 0:\n",
    "        return \"neutro\"\n",
    "    elif label > 0:\n",
    "        return \"positivo\"\n",
    "\n",
    "# Aplicar la función sentimiento\n",
    "df['etiquetas_TB'] = df['polaridad'].apply(sentimiento)\n",
    "\n",
    "# Guardar el archivo con su clasificación\n",
    "df.to_csv('comentariosClasificadosPolaridad.csv', index=False)\n",
    "\n",
    "# Mostrar los resultados intermedios\n",
    "df.head()"
   ]
  },
  {
   "cell_type": "code",
   "execution_count": 66,
   "id": "96c0ed5e-2d15-42c9-9cb8-f8d737f3a47e",
   "metadata": {},
   "outputs": [
    {
     "data": {
      "image/png": "[encoded data removed]",
      "text/plain": [
       "<Figure size 1000x600 with 1 Axes>"
      ]
     },
     "metadata": {},
     "output_type": "display_data"
    }
   ],
   "source": [
    "# Gráfico de acuerdo a la clasificación que realiza la función sin analisis -\n",
    "# -personal para mencionar que el comentarios es negativo o positivo \n",
    "# Gráfico de barras para la clasificación de sentimientos\n",
    "plt.figure(figsize=(10, 6))\n",
    "sns.countplot(x='etiquetas_TB', data=df, palette='viridis')\n",
    "plt.title('Distribución de Clasificación de Comentarios')\n",
    "plt.xlabel('Clasificación')\n",
    "plt.ylabel('Frecuencia')\n",
    "plt.show()"
   ]
  },
  {
   "cell_type": "code",
   "execution_count": 67,
   "id": "d555c510-ecf6-499b-9caf-7998007763f3",
   "metadata": {},
   "outputs": [
    {
     "name": "stdout",
     "output_type": "stream",
     "text": [
      "etiquetas_TB\n",
      "positivo    554\n",
      "negativo    375\n",
      "neutro      171\n",
      "Name: count, dtype: int64\n"
     ]
    }
   ],
   "source": [
    "# Verificar la distribución actual de los sentimientos\n",
    "distribucion = df['etiquetas_TB'].value_counts()\n",
    "\n",
    "# Mostrar la distribución\n",
    "print(distribucion)"
   ]
  },
  {
   "cell_type": "code",
   "execution_count": 73,
   "id": "f70bbcb8-4884-4cf3-a399-7cde6d3d7a21",
   "metadata": {},
   "outputs": [
    {
     "data": {
      "text/html": [
       "<div>\n",
       "<style scoped>\n",
       "    .dataframe tbody tr th:only-of-type {\n",
       "        vertical-align: middle;\n",
       "    }\n",
       "\n",
       "    .dataframe tbody tr th {\n",
       "        vertical-align: top;\n",
       "    }\n",
       "\n",
       "    .dataframe thead th {\n",
       "        text-align: right;\n",
       "    }\n",
       "</style>\n",
       "<table border=\"1\" class=\"dataframe\">\n",
       "  <thead>\n",
       "    <tr style=\"text-align: right;\">\n",
       "      <th></th>\n",
       "      <th>wiI7pd</th>\n",
       "      <th>etiquetas_TB</th>\n",
       "    </tr>\n",
       "  </thead>\n",
       "  <tbody>\n",
       "    <tr>\n",
       "      <th>0</th>\n",
       "      <td>un maltrato increíble el guardia no deja entra...</td>\n",
       "      <td>positivo</td>\n",
       "    </tr>\n",
       "    <tr>\n",
       "      <th>1</th>\n",
       "      <td>pésimo servicio tiempo de espera de más de 4 h...</td>\n",
       "      <td>negativo</td>\n",
       "    </tr>\n",
       "    <tr>\n",
       "      <th>2</th>\n",
       "      <td>hoy 270623 necesitaba saber que paso con una d...</td>\n",
       "      <td>negativo</td>\n",
       "    </tr>\n",
       "    <tr>\n",
       "      <th>3</th>\n",
       "      <td>pesimo servicio 3 horas para atencion y 3 maa ...</td>\n",
       "      <td>negativo</td>\n",
       "    </tr>\n",
       "    <tr>\n",
       "      <th>4</th>\n",
       "      <td>el servicio lento inoperante burocrático des h...</td>\n",
       "      <td>negativo</td>\n",
       "    </tr>\n",
       "  </tbody>\n",
       "</table>\n",
       "</div>"
      ],
      "text/plain": [
       "                                              wiI7pd etiquetas_TB\n",
       "0  un maltrato increíble el guardia no deja entra...     positivo\n",
       "1  pésimo servicio tiempo de espera de más de 4 h...     negativo\n",
       "2  hoy 270623 necesitaba saber que paso con una d...     negativo\n",
       "3  pesimo servicio 3 horas para atencion y 3 maa ...     negativo\n",
       "4  el servicio lento inoperante burocrático des h...     negativo"
      ]
     },
     "execution_count": 73,
     "metadata": {},
     "output_type": "execute_result"
    }
   ],
   "source": [
    "# Cargar el archivo clasificado\n",
    "df = pd.read_csv('comentariosClasificadosPolaridad.csv')\n",
    "\n",
    "# Seleccionar solo la columna de comentarios en español y la etiqueta\n",
    "df_seleccionado = df[['wiI7pd', 'etiquetas_TB']]\n",
    "\n",
    "# Guardar el nuevo archivo con solo las columnas seleccionadas\n",
    "df_seleccionado.to_csv('comentariosEtiquetados.csv', index=False)\n",
    "\n",
    "# Mostrar las primeras filas del dataframe seleccionado\n",
    "df_seleccionado.head()\n"
   ]
  },
  {
   "cell_type": "markdown",
   "id": "55a3209d-88b3-43e8-83c3-f96560014265",
   "metadata": {},
   "source": [
    "# Selección de los comentarios Positivo, Negativo y Neutro"
   ]
  },
  {
   "cell_type": "code",
   "execution_count": 79,
   "id": "6c8be503-ac82-4411-8a82-bf09ad07e1ae",
   "metadata": {},
   "outputs": [
    {
     "name": "stdout",
     "output_type": "stream",
     "text": [
      "                                         Comentarios Sentimiento\n",
      "0  un maltrato increíble el guardia no deja entra...    negativo\n",
      "1  pésimo servicio tiempo de espera de más de 4 h...    negativo\n",
      "2  hoy 270623 necesitaba saber que paso con una d...      neutro\n",
      "3  pésimo servicio 3 horas para atencion y 3 más ...    negativo\n",
      "4  el servicio lento inoperante burocrático des h...    negativo\n"
     ]
    }
   ],
   "source": [
    "#Dataset según la clasificación de CHATGPT con todo el dataset en base a comentarios etiquetados anteriormente\n",
    "\n",
    "df = pd.read_csv('comentariosClasificadosCHATGPT.csv')\n",
    "\n",
    "# Mostrar las primeras filas del dataframe seleccionado\n",
    "print(df.head())"
   ]
  },
  {
   "cell_type": "code",
   "execution_count": 84,
   "id": "f3abacba-df12-4da3-95cb-b3596040c86d",
   "metadata": {},
   "outputs": [
    {
     "data": {
      "image/png": "[encoded data removed]",
      "text/plain": [
       "<Figure size 1000x600 with 1 Axes>"
      ]
     },
     "metadata": {},
     "output_type": "display_data"
    }
   ],
   "source": [
    "# Cargar el dataset\n",
    "df = pd.read_csv('comentariosClasificadosCHATGPT.csv')\n",
    "\n",
    "# Contar la cantidad de comentarios por cada categoría de sentimiento\n",
    "sentiment_counts = df['Sentimiento'].value_counts()\n",
    "\n",
    "# Crear el gráfico de barras\n",
    "plt.figure(figsize=(10, 6))\n",
    "plt.bar(sentiment_counts.index, sentiment_counts.values, color=['red', 'blue', 'green'])\n",
    "plt.xlabel('Sentimiento')\n",
    "plt.ylabel('Cantidad de Comentarios')\n",
    "plt.title('Distribución de Sentimientos en los Comentarios con CHAT')\n",
    "plt.xticks(rotation=45)\n",
    "plt.show()\n"
   ]
  },
  {
   "cell_type": "code",
   "execution_count": 85,
   "id": "b883aaba-9871-4289-9c74-a9ef0500d226",
   "metadata": {},
   "outputs": [
    {
     "name": "stdout",
     "output_type": "stream",
     "text": [
      "Sentimiento\n",
      "neutro      653\n",
      "negativo    286\n",
      "positivo    161\n",
      "Name: count, dtype: int64\n"
     ]
    }
   ],
   "source": [
    "# Verificar la distribución  sentimientos\n",
    "distribucion = df['Sentimiento'].value_counts()\n",
    "\n",
    "# Mostrar la distribución\n",
    "print(distribucion)"
   ]
  },
  {
   "cell_type": "markdown",
   "id": "3f8bc2a1-2aab-4488-a5d3-0e652e8d0049",
   "metadata": {},
   "source": [
    "## Selección de los 166 comentarios manualmente validando si lo que dice el ChatGPT es adecuada"
   ]
  },
  {
   "cell_type": "code",
   "execution_count": 94,
   "id": "4c584746-d913-4e83-b819-dd1e0faaa96d",
   "metadata": {},
   "outputs": [
    {
     "data": {
      "image/png": "[encoded data removed]",
      "text/plain": [
       "<Figure size 1000x600 with 1 Axes>"
      ]
     },
     "metadata": {},
     "output_type": "display_data"
    }
   ],
   "source": [
    "# Lo que el Chat Selecciono y Califico los 165 comentarios\n",
    "df = pd.read_csv('comentarios166CHATGPT.csv')\n",
    "\n",
    "# Contar la cantidad de comentarios por cada categoría de sentimiento\n",
    "sentiment_counts = df['Sentimiento'].value_counts()\n",
    "\n",
    "# Crear el gráfico de barras\n",
    "plt.figure(figsize=(10, 6))\n",
    "plt.bar(sentiment_counts.index, sentiment_counts.values, color=['orange', 'purple', 'green'])\n",
    "plt.xlabel('Sentimiento')\n",
    "plt.ylabel('Cantidad de Comentarios')\n",
    "plt.title('Distribución de Sentimientos en los Comentarios con CHATPGT')\n",
    "plt.xticks(rotation=45)\n",
    "plt.show()"
   ]
  },
  {
   "cell_type": "code",
   "execution_count": 95,
   "id": "fb75e8b2-7ff4-41b8-9665-e6f62f044329",
   "metadata": {},
   "outputs": [
    {
     "name": "stdout",
     "output_type": "stream",
     "text": [
      "Sentimiento\n",
      "negativo    200\n",
      "neutro      200\n",
      "positivo     99\n",
      "Name: count, dtype: int64\n"
     ]
    }
   ],
   "source": [
    "#Resultado de como ChatGTP lo selecciono\n",
    "chat = pd.read_csv('comentarios166CHATGPT.csv')\n",
    "chat = df['Sentimiento'].value_counts()\n",
    "\n",
    "# Mostrar la distribución\n",
    "print(chat)"
   ]
  },
  {
   "cell_type": "markdown",
   "id": "5d2e5856-663d-400a-82a9-8e54eb15650c",
   "metadata": {},
   "source": [
    "## Selección y validación manual de los comentarios en EXCEL"
   ]
  },
  {
   "cell_type": "code",
   "execution_count": 107,
   "id": "94c5e81a-447f-48ad-8d83-15fdac6a441b",
   "metadata": {},
   "outputs": [
    {
     "name": "stdout",
     "output_type": "stream",
     "text": [
      "Archivo CSV guardado en: datosSeleccionadosEtiquetadosIEES.csv\n"
     ]
    },
    {
     "data": {
      "text/html": [
       "<div>\n",
       "<style scoped>\n",
       "    .dataframe tbody tr th:only-of-type {\n",
       "        vertical-align: middle;\n",
       "    }\n",
       "\n",
       "    .dataframe tbody tr th {\n",
       "        vertical-align: top;\n",
       "    }\n",
       "\n",
       "    .dataframe thead th {\n",
       "        text-align: right;\n",
       "    }\n",
       "</style>\n",
       "<table border=\"1\" class=\"dataframe\">\n",
       "  <thead>\n",
       "    <tr style=\"text-align: right;\">\n",
       "      <th></th>\n",
       "      <th>Comentarios</th>\n",
       "      <th>Sentimiento</th>\n",
       "    </tr>\n",
       "  </thead>\n",
       "  <tbody>\n",
       "    <tr>\n",
       "      <th>0</th>\n",
       "      <td>es un excelente centro médico de atención lame...</td>\n",
       "      <td>neutro</td>\n",
       "    </tr>\n",
       "    <tr>\n",
       "      <th>1</th>\n",
       "      <td>buen servicio y excelente atención médica y at...</td>\n",
       "      <td>positivo</td>\n",
       "    </tr>\n",
       "    <tr>\n",
       "      <th>2</th>\n",
       "      <td>hospital nuevo tiene más o menos un año equipo...</td>\n",
       "      <td>positivo</td>\n",
       "    </tr>\n",
       "    <tr>\n",
       "      <th>3</th>\n",
       "      <td>instalaciones siguen en buenas condiciones es...</td>\n",
       "      <td>positivo</td>\n",
       "    </tr>\n",
       "    <tr>\n",
       "      <th>4</th>\n",
       "      <td>excelente hospital con un amplio parqueadero q...</td>\n",
       "      <td>positivo</td>\n",
       "    </tr>\n",
       "    <tr>\n",
       "      <th>...</th>\n",
       "      <td>...</td>\n",
       "      <td>...</td>\n",
       "    </tr>\n",
       "    <tr>\n",
       "      <th>494</th>\n",
       "      <td>buena atención cuidan  procedimientos anti covid</td>\n",
       "      <td>positivo</td>\n",
       "    </tr>\n",
       "    <tr>\n",
       "      <th>495</th>\n",
       "      <td>día de hoy mi hija tenía cita cita médica per...</td>\n",
       "      <td>neutro</td>\n",
       "    </tr>\n",
       "    <tr>\n",
       "      <th>496</th>\n",
       "      <td>no hay turnos por  no hay medicinas no atiende...</td>\n",
       "      <td>negativo</td>\n",
       "    </tr>\n",
       "    <tr>\n",
       "      <th>497</th>\n",
       "      <td>se puede mejorar  atención a  pacientes en  ár...</td>\n",
       "      <td>neutro</td>\n",
       "    </tr>\n",
       "    <tr>\n",
       "      <th>498</th>\n",
       "      <td>no sé para que se asigna citas si  médicos no ...</td>\n",
       "      <td>neutro</td>\n",
       "    </tr>\n",
       "  </tbody>\n",
       "</table>\n",
       "<p>499 rows × 2 columns</p>\n",
       "</div>"
      ],
      "text/plain": [
       "                                           Comentarios Sentimiento\n",
       "0    es un excelente centro médico de atención lame...      neutro\n",
       "1    buen servicio y excelente atención médica y at...    positivo\n",
       "2    hospital nuevo tiene más o menos un año equipo...    positivo\n",
       "3     instalaciones siguen en buenas condiciones es...    positivo\n",
       "4    excelente hospital con un amplio parqueadero q...    positivo\n",
       "..                                                 ...         ...\n",
       "494   buena atención cuidan  procedimientos anti covid    positivo\n",
       "495   día de hoy mi hija tenía cita cita médica per...      neutro\n",
       "496  no hay turnos por  no hay medicinas no atiende...    negativo\n",
       "497  se puede mejorar  atención a  pacientes en  ár...      neutro\n",
       "498  no sé para que se asigna citas si  médicos no ...      neutro\n",
       "\n",
       "[499 rows x 2 columns]"
      ]
     },
     "execution_count": 107,
     "metadata": {},
     "output_type": "execute_result"
    }
   ],
   "source": [
    "# Se selecciona los comentarios que hizo chat por cuenta propia para ver si es valido o no\n",
    "# Leer el archivo Excel\n",
    "file_path_excel = 'datosSeleccionadosEtiquetadosIEES.xlsx' \n",
    "comentarios_excel_df = pd.read_excel(file_path_excel)\n",
    "\n",
    "# Guardar el DataFrame como un archivo CSV\n",
    "output_csv_path = 'datosSeleccionadosEtiquetadosIEES.csv'\n",
    "comentarios_excel_df.to_csv(output_csv_path, index=False)\n",
    "\n",
    "print(f\"Archivo CSV guardado en: {output_csv_path}\")\n",
    "\n",
    "comentarios_excel_df"
   ]
  },
  {
   "cell_type": "code",
   "execution_count": 124,
   "id": "bf2ed594-478c-4986-8ee0-12ae62490981",
   "metadata": {},
   "outputs": [
    {
     "data": {
      "image/png": "[encoded data removed]",
      "text/plain": [
       "<Figure size 1000x600 with 1 Axes>"
      ]
     },
     "metadata": {},
     "output_type": "display_data"
    }
   ],
   "source": [
    "#Clasificación personal de acuerdo  a los comentarios que mando el Chat\n",
    "df = pd.read_csv('datosSeleccionadosEtiquetadosIEES.csv')\n",
    "\n",
    "# Contar la cantidad de comentarios por cada categoría de sentimiento\n",
    "sentiment_counts = df['Sentimiento'].value_counts()\n",
    "\n",
    "# Crear el gráfico de barras\n",
    "plt.figure(figsize=(10, 6))\n",
    "plt.bar(sentiment_counts.index, sentiment_counts.values, color=['#FF008D', '#FC8265', '#6565FC'])\n",
    "plt.xlabel('Sentimiento')\n",
    "plt.ylabel('Cantidad de Comentarios')\n",
    "plt.title('Distribución de Sentimientos con validación Personal')\n",
    "plt.xticks(rotation=45)\n",
    "plt.show()"
   ]
  },
  {
   "cell_type": "code",
   "execution_count": 123,
   "id": "a2123477-b5d5-4c02-8dbe-212c85a87c8f",
   "metadata": {},
   "outputs": [
    {
     "name": "stdout",
     "output_type": "stream",
     "text": [
      "Sentimiento\n",
      "negativo    229\n",
      "neutro      162\n",
      "positivo    107\n",
      "Positivo      1\n",
      "Name: count, dtype: int64\n"
     ]
    }
   ],
   "source": [
    "seleccionados = pd.read_csv('datosSeleccionadosEtiquetadosIEES.csv')\n",
    "seleccionados = df['Sentimiento'].value_counts()\n",
    "\n",
    "# Mostrar la distribución\n",
    "print(seleccionados)"
   ]
  },
  {
   "cell_type": "markdown",
   "id": "893b0f2e-2880-4a3e-a7e4-57ec3e3721a1",
   "metadata": {},
   "source": [
    "## Selección de 107 instancias por cada una Positivo, Negativo y Neutro"
   ]
  },
  {
   "cell_type": "markdown",
   "id": "a0dc17ae-93b7-4bc9-a31f-30f985000678",
   "metadata": {},
   "source": [
    "Se selecciona 107 instanacias, considerando que los comentarios positivos son de 107 lo cual se escogeran de \n",
    "negativos 107 y neutros 107"
   ]
  },
  {
   "cell_type": "code",
   "execution_count": 125,
   "id": "d5a9dbc6-ed20-424c-b799-17d778024d49",
   "metadata": {},
   "outputs": [
    {
     "name": "stdout",
     "output_type": "stream",
     "text": [
      "Archivo CSV guardado en: datosBalanceadosFin.csv\n"
     ]
    },
    {
     "data": {
      "text/html": [
       "<div>\n",
       "<style scoped>\n",
       "    .dataframe tbody tr th:only-of-type {\n",
       "        vertical-align: middle;\n",
       "    }\n",
       "\n",
       "    .dataframe tbody tr th {\n",
       "        vertical-align: top;\n",
       "    }\n",
       "\n",
       "    .dataframe thead th {\n",
       "        text-align: right;\n",
       "    }\n",
       "</style>\n",
       "<table border=\"1\" class=\"dataframe\">\n",
       "  <thead>\n",
       "    <tr style=\"text-align: right;\">\n",
       "      <th></th>\n",
       "      <th>Comentarios</th>\n",
       "      <th>Sentimiento</th>\n",
       "    </tr>\n",
       "  </thead>\n",
       "  <tbody>\n",
       "    <tr>\n",
       "      <th>0</th>\n",
       "      <td>es un excelente centro médico de atención lame...</td>\n",
       "      <td>neutro</td>\n",
       "    </tr>\n",
       "    <tr>\n",
       "      <th>1</th>\n",
       "      <td>buen servicio y excelente atención médica y at...</td>\n",
       "      <td>positivo</td>\n",
       "    </tr>\n",
       "    <tr>\n",
       "      <th>2</th>\n",
       "      <td>hospital nuevo tiene más o menos un año equipo...</td>\n",
       "      <td>positivo</td>\n",
       "    </tr>\n",
       "    <tr>\n",
       "      <th>3</th>\n",
       "      <td>instalaciones siguen en buenas condiciones es...</td>\n",
       "      <td>positivo</td>\n",
       "    </tr>\n",
       "    <tr>\n",
       "      <th>4</th>\n",
       "      <td>excelente hospital con un amplio parqueadero q...</td>\n",
       "      <td>positivo</td>\n",
       "    </tr>\n",
       "    <tr>\n",
       "      <th>...</th>\n",
       "      <td>...</td>\n",
       "      <td>...</td>\n",
       "    </tr>\n",
       "    <tr>\n",
       "      <th>319</th>\n",
       "      <td>buena atención cuidan  procedimientos anti covid</td>\n",
       "      <td>positivo</td>\n",
       "    </tr>\n",
       "    <tr>\n",
       "      <th>320</th>\n",
       "      <td>día de hoy mi hija tenía cita cita médica per...</td>\n",
       "      <td>neutro</td>\n",
       "    </tr>\n",
       "    <tr>\n",
       "      <th>321</th>\n",
       "      <td>no hay turnos por  no hay medicinas no atiende...</td>\n",
       "      <td>negativo</td>\n",
       "    </tr>\n",
       "    <tr>\n",
       "      <th>322</th>\n",
       "      <td>se puede mejorar  atención a  pacientes en  ár...</td>\n",
       "      <td>neutro</td>\n",
       "    </tr>\n",
       "    <tr>\n",
       "      <th>323</th>\n",
       "      <td>no sé para que se asigna citas si  médicos no ...</td>\n",
       "      <td>neutro</td>\n",
       "    </tr>\n",
       "  </tbody>\n",
       "</table>\n",
       "<p>324 rows × 2 columns</p>\n",
       "</div>"
      ],
      "text/plain": [
       "                                           Comentarios Sentimiento\n",
       "0    es un excelente centro médico de atención lame...      neutro\n",
       "1    buen servicio y excelente atención médica y at...    positivo\n",
       "2    hospital nuevo tiene más o menos un año equipo...    positivo\n",
       "3     instalaciones siguen en buenas condiciones es...    positivo\n",
       "4    excelente hospital con un amplio parqueadero q...    positivo\n",
       "..                                                 ...         ...\n",
       "319   buena atención cuidan  procedimientos anti covid    positivo\n",
       "320   día de hoy mi hija tenía cita cita médica per...      neutro\n",
       "321  no hay turnos por  no hay medicinas no atiende...    negativo\n",
       "322  se puede mejorar  atención a  pacientes en  ár...      neutro\n",
       "323  no sé para que se asigna citas si  médicos no ...      neutro\n",
       "\n",
       "[324 rows x 2 columns]"
      ]
     },
     "execution_count": 125,
     "metadata": {},
     "output_type": "execute_result"
    }
   ],
   "source": [
    "# Leer el archivo Excel\n",
    "file_path_excel = 'datosBalanceadosFin.xlsx'  # Asegúrate de que el archivo esté en el mismo directorio o proporciona la ruta completa\n",
    "comentarios_excel_df = pd.read_excel(file_path_excel)\n",
    "\n",
    "# Guardar el DataFrame como un archivo CSV\n",
    "output_csv_path = 'datosBalanceadosFin.csv'\n",
    "comentarios_excel_df.to_csv(output_csv_path, index=False)\n",
    "\n",
    "print(f\"Archivo CSV guardado en: {output_csv_path}\")\n",
    "\n",
    "comentarios_excel_df"
   ]
  },
  {
   "cell_type": "code",
   "execution_count": 133,
   "id": "be531651-edc9-406e-b21f-b60bef17150d",
   "metadata": {},
   "outputs": [
    {
     "data": {
      "image/png": "[encoded data removed]",
      "text/plain": [
       "<Figure size 1000x600 with 1 Axes>"
      ]
     },
     "metadata": {},
     "output_type": "display_data"
    }
   ],
   "source": [
    "# GRafico del balance de acuerdo a la seleccion personal de los comentarios con 108 instancias\n",
    "df = pd.read_csv('datosBalanceadosFin.csv')\n",
    "\n",
    "# Contar la cantidad de comentarios por cada categoría de sentimiento\n",
    "sentiment_counts = df['Sentimiento'].value_counts()\n",
    "\n",
    "# Crear el gráfico de barras\n",
    "plt.figure(figsize=(10, 6))\n",
    "plt.bar(sentiment_counts.index, sentiment_counts.values, color=['#FAEA00', '#5EFA00', '#2DFAA9'])\n",
    "plt.xlabel('Sentimiento')\n",
    "plt.ylabel('Cantidad de Comentarios')\n",
    "plt.title('Distribución de Sentimientos con Seleccion Personal')\n",
    "plt.xticks(rotation=45)\n",
    "plt.show()"
   ]
  },
  {
   "cell_type": "markdown",
   "id": "a8816986-8f8e-4947-af42-eb3caefa5566",
   "metadata": {},
   "source": [
    "### Balance Final de los comentarios seleccionados y etiquetados "
   ]
  },
  {
   "cell_type": "code",
   "execution_count": 132,
   "id": "88d1fc57-1ddd-4c74-ab67-4237fd7b64cb",
   "metadata": {},
   "outputs": [
    {
     "name": "stdout",
     "output_type": "stream",
     "text": [
      "Sentimiento\n",
      "neutro      108\n",
      "positivo    108\n",
      "negativo    108\n",
      "Name: count, dtype: int64\n"
     ]
    }
   ],
   "source": [
    "balanceado = pd.read_csv('datosBalanceadosFin.csv')\n",
    "balanceado = df['Sentimiento'].value_counts()\n",
    "\n",
    "# Mostrar la distribución\n",
    "print(balanceado)"
   ]
  },
  {
   "cell_type": "code",
   "execution_count": null,
   "id": "030adbea-fde3-4d95-9299-a2a3ca021cb7",
   "metadata": {},
   "outputs": [],
   "source": []
  }
 ],
 "metadata": {
  "kernelspec": {
   "display_name": "Python 3 (ipykernel)",
   "language": "python",
   "name": "python3"
  },
  "language_info": {
   "codemirror_mode": {
    "name": "ipython",
    "version": 3
   },
   "file_extension": ".py",
   "mimetype": "text/x-python",
   "name": "python",
   "nbconvert_exporter": "python",
   "pygments_lexer": "ipython3",
   "version": "3.11.7"
  }
 },
 "nbformat": 4,
 "nbformat_minor": 5
}
